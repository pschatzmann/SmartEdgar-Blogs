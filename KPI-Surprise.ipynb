{
 "cells": [
  {
   "cell_type": "markdown",
   "metadata": {},
   "source": [
    "# Smart EDGAR: Forecasting and Calculation of Surprises\n",
    "\n",
    "Financial KPIs can be used to drive investment decisions. So it was my goal to create a comprehensive set of KPIs across different __dimensions__ that are based on the information which can be determined from EDGAR: \n",
    "- Profitability\n",
    "- Liquidity\n",
    "- Efficiency\n",
    "- Innovation\n",
    "- Growth\n",
    "- Leadership\n",
    "- Surprises\n",
    "\n",
    "In this document we demonstrate the approach on how to calculate the __Surprises__\n",
    "\n",
    "## Setup\n",
    "We install the dependencies with Maven"
   ]
  },
  {
   "cell_type": "code",
   "execution_count": 1,
   "metadata": {},
   "outputs": [
    {
     "name": "stdout",
     "output_type": "stream",
     "text": [
      "Added new repo: maven-public\n"
     ]
    },
    {
     "data": {
      "application/vnd.jupyter.widget-view+json": {
       "model_id": "",
       "version_major": 2,
       "version_minor": 0
      },
      "method": "display_data"
     },
     "metadata": {},
     "output_type": "display_data"
    },
    {
     "data": {
      "application/vnd.jupyter.widget-view+json": {
       "model_id": "88b217fc-fc2c-4fa3-8f53-fc60fc526c96",
       "version_major": 2,
       "version_minor": 0
      },
      "method": "display_data"
     },
     "metadata": {},
     "output_type": "display_data"
    }
   ],
   "source": [
    "%classpath config resolver maven-public http://software.pschatzmann.ch/repository/maven-public/\n",
    "%%classpath add mvn \n",
    "ch.pschatzmann:smart-edgar:1.0.2\n",
    "ch.pschatzmann:jupyter-jdk-extensions:1.0.0\n"
   ]
  },
  {
   "cell_type": "code",
   "execution_count": 2,
   "metadata": {},
   "outputs": [
    {
     "data": {
      "text/plain": [
       "true"
      ]
     },
     "execution_count": 2,
     "metadata": {},
     "output_type": "execute_result"
    }
   ],
   "source": [
    "import ch.pschatzmann.edgar.reporting.company._\n",
    "import ch.pschatzmann.display.Displayers\n",
    "\n",
    "Displayers.setup"
   ]
  },
  {
   "cell_type": "markdown",
   "metadata": {},
   "source": [
    "## Comparision with Forecasted Value\n",
    "The simplest approach to determine a Surprise is to calculate the forecasted value and to compare it with the effectivly reported value. \n",
    "\n",
    "The calculation can be done with the forecast() method. The surprisePercent() gives the difference in % of the effective value compared to the forecast value."
   ]
  },
  {
   "cell_type": "code",
   "execution_count": 3,
   "metadata": {},
   "outputs": [
    {
     "data": {
      "text/plain": [
       "ch.pschatzmann.edgar.reporting.company.CompanyEdgarValuesDB@71b01e8e"
      ]
     },
     "execution_count": 3,
     "metadata": {},
     "output_type": "execute_result"
    }
   ],
   "source": [
    "val values = new CompanyEdgarValuesDB(new CompanySelection().setTradingSymbol(\"AAPL\"))\n",
    "    .setAddTime(true)\n",
    "    .setFilter(new FilterQuarterlyCumulated())\n",
    "    .setParameterNames(\"NetIncomeLoss\", \"Revenues\",\"SalesRevenueNet\",\"EarningsPerShareBasic\")\n",
    "    .addFormula(\"Revenue\",\"Edgar.coalesce('Revenues', 'SalesRevenueNet')\")\n",
    "    .addFormula(\"NetIncomeForecasted\",\"Edgar.forecast('NetIncomeLoss')\")\n",
    "    .addFormula(\"RevenueForecasted\",\"Edgar.forecast('Revenue')\")\n",
    "    .addFormula(\"EarningsPerShareForecasted\",\"Edgar.forecast('EarningsPerShareBasic')\")\n",
    "    .addFormula(\"NetIncomeSurprise%\",\"Edgar.surprisePercent('NetIncomeLoss')\")\n",
    "    .addFormula(\"RevenueSurprise%\",\"Edgar.surprisePercent('Revenue')\")\n",
    "    .addFormula(\"EarningsPerShareSurprise%\",\"Edgar.surprisePercent('EarningsPerShareBasic')\")\n",
    "    .removeParameterNames(\"Revenues\",\"SalesRevenueNet\")\n",
    "\n"
   ]
  },
  {
   "cell_type": "code",
   "execution_count": 4,
   "metadata": {},
   "outputs": [
    {
     "data": {
      "application/vnd.jupyter.widget-view+json": {
       "model_id": "8aa796fe-564a-4778-973f-2ed7fd72dfd7",
       "version_major": 2,
       "version_minor": 0
      },
      "method": "display_data"
     },
     "metadata": {},
     "output_type": "display_data"
    }
   ],
   "source": [
    "values.getTable"
   ]
  },
  {
   "cell_type": "markdown",
   "metadata": {},
   "source": [
    "We convert the data to Scala as a preparation so that we can create some charts"
   ]
  },
  {
   "cell_type": "code",
   "execution_count": 5,
   "metadata": {},
   "outputs": [
    {
     "data": {
      "text/plain": [
       "45"
      ]
     },
     "execution_count": 5,
     "metadata": {},
     "output_type": "execute_result"
    }
   ],
   "source": [
    "import scala.collection.JavaConverters._\n",
    "\n",
    "val scalaValues = values.toList.asScala\n",
    "    .map(map => map.asScala.toMap)\n",
    "    .toSeq\n",
    "\n",
    "scalaValues.size"
   ]
  },
  {
   "cell_type": "markdown",
   "metadata": {},
   "source": [
    "We check if the forecast make any sense"
   ]
  },
  {
   "cell_type": "code",
   "execution_count": 6,
   "metadata": {},
   "outputs": [
    {
     "data": {
      "application/vnd.jupyter.widget-view+json": {
       "model_id": "f60f1aff-e0c1-440e-9256-21871effd141",
       "version_major": 2,
       "version_minor": 0
      },
      "method": "display_data"
     },
     "metadata": {},
     "output_type": "display_data"
    }
   ],
   "source": [
    "val plot = new SimpleTimePlot {\n",
    "    data = scalaValues\n",
    "    columns = Seq(\"NetIncomeLoss\",\"NetIncomeForecasted\")\n",
    "}\n"
   ]
  },
  {
   "cell_type": "markdown",
   "metadata": {},
   "source": [
    "And last but not least we finish with the plot of the calculated Surprises:"
   ]
  },
  {
   "cell_type": "code",
   "execution_count": 7,
   "metadata": {},
   "outputs": [
    {
     "data": {
      "application/vnd.jupyter.widget-view+json": {
       "model_id": "3489e23c-6368-45e2-ad59-f5c5568826f5",
       "version_major": 2,
       "version_minor": 0
      },
      "method": "display_data"
     },
     "metadata": {},
     "output_type": "display_data"
    }
   ],
   "source": [
    "val plot = new SimpleTimePlot {\n",
    "    data = scalaValues\n",
    "    columns = Seq(\"NetIncomeSurprise%\",\"RevenueSurprise%\",\"EarningsPerShareSurprise%\")\n",
    "}\n"
   ]
  },
  {
   "cell_type": "code",
   "execution_count": 8,
   "metadata": {},
   "outputs": [
    {
     "data": {
      "text/plain": [
       "ch.pschatzmann.edgar.table.forecast.ForecastQuartersCumulated@71f4a619"
      ]
     },
     "execution_count": 8,
     "metadata": {},
     "output_type": "execute_result"
    }
   ],
   "source": [
    "import ch.pschatzmann.common.table.TableCalculated\n",
    "\n",
    "val formulas = values.getTable().getBaseTableOfClass(\"TableCalculated\").asInstanceOf[TableCalculated].getFormulas\n",
    "formulas.getForecast"
   ]
  },
  {
   "cell_type": "markdown",
   "metadata": {},
   "source": [
    "## Defining an alternative Forecasting Method\n",
    "We can change the Forecasting method by setting the Forecast implementation on the Formulas object. This needs to be \n",
    "done before the values are renderend. In the following example we use the Arima forecast implementation"
   ]
  },
  {
   "cell_type": "code",
   "execution_count": 9,
   "metadata": {},
   "outputs": [
    {
     "data": {
      "application/vnd.jupyter.widget-view+json": {
       "model_id": "c39d4ab7-c5e2-498d-bf98-1df4239f6c3f",
       "version_major": 2,
       "version_minor": 0
      },
      "method": "display_data"
     },
     "metadata": {},
     "output_type": "display_data"
    }
   ],
   "source": [
    "import  ch.pschatzmann.edgar.table.forecast.ForecastQuartersCumulatedARIMA\n",
    "\n",
    "val values1 = new CompanyEdgarValuesDB(new CompanySelection().setTradingSymbol(\"AAPL\"))\n",
    "    .setAddTime(true)\n",
    "    .setFilter(new FilterQuarterlyCumulated())\n",
    "    .setParameterNames(\"NetIncomeLoss\", \"Revenues\",\"SalesRevenueNet\",\"EarningsPerShareBasic\")\n",
    "    .addFormula(\"Revenue\",\"Edgar.coalesce('Revenues', 'SalesRevenueNet')\")\n",
    "    .addFormula(\"NetIncomeForecasted\",\"Edgar.forecast('NetIncomeLoss')\")\n",
    "    .addFormula(\"RevenueForecasted\",\"Edgar.forecast('Revenue')\")\n",
    "    .addFormula(\"EarningsPerShareForecasted\",\"Edgar.forecast('EarningsPerShareBasic')\")\n",
    "    .addFormula(\"NetIncomeSurprise%\",\"Edgar.surprisePercent('NetIncomeLoss')\")\n",
    "    .addFormula(\"RevenueSurprise%\",\"Edgar.surprisePercent('Revenue')\")\n",
    "    .addFormula(\"EarningsPerShareSurprise%\",\"Edgar.surprisePercent('EarningsPerShareBasic')\")\n",
    "    .removeParameterNames(\"Revenues\",\"SalesRevenueNet\")\n",
    "\n",
    "val formulas1 = values1.getTable().getBaseTableOfClass(\"TableCalculated\").asInstanceOf[TableCalculated].getFormulas\n",
    "formulas1.setForecast(new ForecastQuartersCumulatedARIMA())\n",
    "\n",
    "values1.getTable"
   ]
  },
  {
   "cell_type": "code",
   "execution_count": 10,
   "metadata": {},
   "outputs": [
    {
     "data": {
      "application/vnd.jupyter.widget-view+json": {
       "model_id": "61948449-cf76-469a-963f-564ddd29b5bb",
       "version_major": 2,
       "version_minor": 0
      },
      "method": "display_data"
     },
     "metadata": {},
     "output_type": "display_data"
    }
   ],
   "source": [
    "import scala.collection.JavaConverters._\n",
    "\n",
    "val scalaValues1 = values1.toList.asScala\n",
    "    .map(map => map.asScala.toMap)\n",
    "    .toSeq\n",
    "\n",
    "val plot = new SimpleTimePlot {\n",
    "    data = scalaValues1\n",
    "    columns = Seq(\"NetIncomeSurprise%\",\"RevenueSurprise%\",\"EarningsPerShareSurprise%\")\n",
    "}\n"
   ]
  },
  {
   "cell_type": "code",
   "execution_count": null,
   "metadata": {},
   "outputs": [],
   "source": []
  },
  {
   "cell_type": "code",
   "execution_count": null,
   "metadata": {},
   "outputs": [],
   "source": []
  }
 ],
 "metadata": {
  "kernelspec": {
   "display_name": "Scala",
   "language": "scala",
   "name": "scala"
  },
  "language_info": {
   "codemirror_mode": "text/x-scala",
   "file_extension": ".scala",
   "mimetype": "",
   "name": "Scala",
   "nbconverter_exporter": "",
   "version": "2.11.12"
  },
  "toc": {
   "base_numbering": 1,
   "nav_menu": {},
   "number_sections": false,
   "sideBar": false,
   "skip_h1_title": false,
   "title_cell": "Table of Contents",
   "title_sidebar": "Contents",
   "toc_cell": false,
   "toc_position": {},
   "toc_section_display": false,
   "toc_window_display": false
  },
  "widgets": {
   "application/vnd.jupyter.widget-state+json": {
    "state": {
     "3489e23c-6368-45e2-ad59-f5c5568826f5": {
      "model_module": "beakerx",
      "model_module_version": "*",
      "model_name": "PlotModel",
      "state": {
       "model": {
        "auto_zoom": false,
        "chart_title": null,
        "constant_bands": [],
        "constant_lines": [],
        "crosshair": null,
        "custom_styles": [],
        "domain_axis_label": "Time",
        "element_styles": {},
        "graphics_list": [
         {
          "color": "#1F77B4",
          "color_opacity": 1,
          "elements": [
           {
            "_x": 1191016800000,
            "_y": "",
            "index": 0,
            "x": 0.47619047619047616,
            "y": 0.4956363466654221
           },
           {
            "_x": 1222466400000,
            "_y": "",
            "index": 1,
            "x": 0.48014605203103605,
            "y": 0.4956363466654221
           },
           {
            "_x": 1230332400000,
            "_y": "",
            "index": 2,
            "x": 0.4811353987814508,
            "y": 0.4956363466654221
           },
           {
            "_x": 1238194800000,
            "_y": "-38.55",
            "index": 3,
            "x": 0.4821242927415908,
            "y": 0.4881399635973304
           },
           {
            "_x": 1253916000000,
            "_y": "",
            "index": 4,
            "x": 0.48410162787159594,
            "y": 0.4956363466654221
           },
           {
            "_x": 1261782000000,
            "_y": "",
            "index": 5,
            "x": 0.4850909746220107,
            "y": 0.4956363466654221
           },
           {
            "_x": 1269644400000,
            "_y": "-0.23",
            "index": 6,
            "x": 0.48607986858215063,
            "y": 0.4955916211633297
           },
           {
            "_x": 1277503200000,
            "_y": "-5.36",
            "index": 7,
            "x": 0.4870683097520158,
            "y": 0.49459404800796497
           },
           {
            "_x": 1285365600000,
            "_y": "",
            "index": 8,
            "x": 0.4880572037121558,
            "y": 0.4956363466654221
           },
           {
            "_x": 1293231600000,
            "_y": "123.78",
            "index": 9,
            "x": 0.48904655046257056,
            "y": 0.5197064451393102
           },
           {
            "_x": 1301094000000,
            "_y": "17.14",
            "index": 10,
            "x": 0.4900354444227105,
            "y": 0.49896936886482784
           },
           {
            "_x": 1308952800000,
            "_y": "16.22",
            "index": 11,
            "x": 0.4910238855925757,
            "y": 0.49879046685645834
           },
           {
            "_x": 1316815200000,
            "_y": "6.24",
            "index": 12,
            "x": 0.49201277955271566,
            "y": 0.4968497689830587
           },
           {
            "_x": 1325286000000,
            "_y": "144.88",
            "index": 13,
            "x": 0.493078195069295,
            "y": 0.5238095238095238
           },
           {
            "_x": 1333144800000,
            "_y": "14.54",
            "index": 14,
            "x": 0.4940666362391602,
            "y": 0.4984637762324792
           },
           {
            "_x": 1341007200000,
            "_y": "1.81",
            "index": 15,
            "x": 0.49505553019930015,
            "y": 0.49598831692101863
           },
           {
            "_x": 1348869600000,
            "_y": "1.6",
            "index": 16,
            "x": 0.4960444241594401,
            "y": 0.49594748059302124
           },
           {
            "_x": 1356735600000,
            "_y": "35.19",
            "index": 17,
            "x": 0.4970337709098549,
            "y": 0.5024793484855556
           },
           {
            "_x": 1364598000000,
            "_y": "-8.58",
            "index": 18,
            "x": 0.49802266486999486,
            "y": 0.4939678909786718
           },
           {
            "_x": 1372456800000,
            "_y": "-8.8",
            "index": 19,
            "x": 0.49901110603986004,
            "y": 0.4939251100636268
           },
           {
            "_x": 1380319200000,
            "_y": "-3.59",
            "index": 20,
            "x": 0.5,
            "y": 0.49493823991537156
           },
           {
            "_x": 1388185200000,
            "_y": "16.18",
            "index": 21,
            "x": 0.5009893467504147,
            "y": 0.49878268850826835
           },
           {
            "_x": 1396047600000,
            "_y": "-4.7",
            "index": 22,
            "x": 0.5019782407105547,
            "y": 0.4947223907530997
           },
           {
            "_x": 1403906400000,
            "_y": "-6.21",
            "index": 23,
            "x": 0.5029666818804199,
            "y": 0.49442875810892795
           },
           {
            "_x": 1411768800000,
            "_y": "-2.19",
            "index": 24,
            "x": 0.5039555758405598,
            "y": 0.4952104821020208
           },
           {
            "_x": 1419634800000,
            "_y": "45.2",
            "index": 25,
            "x": 0.5049449225909747,
            "y": 0.5044258801200977
           },
           {
            "_x": 1427497200000,
            "_y": "4.29",
            "index": 26,
            "x": 0.5059338165511146,
            "y": 0.4964705745087973
           },
           {
            "_x": 1435356000000,
            "_y": "0.12",
            "index": 27,
            "x": 0.5069222577209798,
            "y": 0.49565968170999203
           },
           {
            "_x": 1443218400000,
            "_y": "1.45",
            "index": 28,
            "x": 0.5079111516811198,
            "y": 0.4959183117873088
           },
           {
            "_x": 1451084400000,
            "_y": "22.18",
            "index": 29,
            "x": 0.5089004984315345,
            "y": 0.4999494407367651
           },
           {
            "_x": 1458946800000,
            "_y": "-10.67",
            "index": 30,
            "x": 0.5098893923916744,
            "y": 0.4935614722857454
           },
           {
            "_x": 1466805600000,
            "_y": "-9.21",
            "index": 31,
            "x": 0.5108778335615396,
            "y": 0.4938453819946796
           },
           {
            "_x": 1474668000000,
            "_y": "-4.58",
            "index": 32,
            "x": 0.5118667275216796,
            "y": 0.4947457257976696
           },
           {
            "_x": 1483138800000,
            "_y": "11.12",
            "index": 33,
            "x": 0.512932143038259,
            "y": 0.4977987274622361
           },
           {
            "_x": 1490997600000,
            "_y": "-8.26",
            "index": 34,
            "x": 0.5139205842081241,
            "y": 0.49403011776419153
           },
           {
            "_x": 1498860000000,
            "_y": "-6.54",
            "index": 35,
            "x": 0.5149094781682642,
            "y": 0.4943645867363607
           },
           {
            "_x": 1506722400000,
            "_y": "-1.39",
            "index": 36,
            "x": 0.5158983721284041,
            "y": 0.4953660490658204
           },
           {
            "_x": 1514588400000,
            "_y": "17.79",
            "index": 37,
            "x": 0.5168877188788188,
            "y": 0.49909576702291497
           },
           {
            "_x": 1522447200000,
            "_y": "-0.17",
            "index": 38,
            "x": 0.517876160048684,
            "y": 0.4956032886856147
           },
           {
            "_x": 1530309600000,
            "_y": "-0.4",
            "index": 39,
            "x": 0.518865054008824,
            "y": 0.4955585631835223
           },
           {
            "_x": 1538172000000,
            "_y": "3.51",
            "index": 40,
            "x": 0.5198539479689639,
            "y": 0.49631889671909274
           },
           {
            "_x": 1546038000000,
            "_y": "6.62",
            "index": 41,
            "x": 0.5208432947193787,
            "y": 0.4969236632908635
           },
           {
            "_x": 1553900400000,
            "_y": "-100.0",
            "index": 42,
            "x": 0.5218321886795186,
            "y": 0.47619047619047616
           },
           {
            "_x": 1561759200000,
            "_y": "-100.0",
            "index": 43,
            "x": 0.5228206298493838,
            "y": 0.47619047619047616
           },
           {
            "_x": 1569621600000,
            "_y": "-100.0",
            "index": 44,
            "x": 0.5238095238095238,
            "y": 0.47619047619047616
           }
          ],
          "hasClickAction": false,
          "id": "i0",
          "index": 0,
          "interpolation": "linear",
          "legend": "NetIncomeSurprise%",
          "showItem": true,
          "stroke_dasharray": "",
          "stroke_opacity": 0,
          "style": "solid",
          "type": "line",
          "uid": "17c41365-d77f-44f3-908c-99554c35a28b",
          "useToolTip": true,
          "visible": true,
          "width": 1.5,
          "x": [
           1191016800000,
           1222466400000,
           1230332400000,
           1238194800000,
           1253916000000,
           1261782000000,
           1269644400000,
           1277503200000,
           1285365600000,
           1293231600000,
           1301094000000,
           1308952800000,
           1316815200000,
           1325286000000,
           1333144800000,
           1341007200000,
           1348869600000,
           1356735600000,
           1364598000000,
           1372456800000,
           1380319200000,
           1388185200000,
           1396047600000,
           1403906400000,
           1411768800000,
           1419634800000,
           1427497200000,
           1435356000000,
           1443218400000,
           1451084400000,
           1458946800000,
           1466805600000,
           1474668000000,
           1483138800000,
           1490997600000,
           1498860000000,
           1506722400000,
           1514588400000,
           1522447200000,
           1530309600000,
           1538172000000,
           1546038000000,
           1553900400000,
           1561759200000,
           1569621600000
          ],
          "y": [
           "",
           "",
           "",
           "-38.55",
           "",
           "",
           "-0.23",
           "-5.36",
           "",
           "123.78",
           "17.14",
           "16.22",
           "6.24",
           "144.88",
           "14.54",
           "1.81",
           "1.6",
           "35.19",
           "-8.58",
           "-8.8",
           "-3.59",
           "16.18",
           "-4.7",
           "-6.21",
           "-2.19",
           "45.2",
           "4.29",
           "0.12",
           "1.45",
           "22.18",
           "-10.67",
           "-9.21",
           "-4.58",
           "11.12",
           "-8.26",
           "-6.54",
           "-1.39",
           "17.79",
           "-0.17",
           "-0.4",
           "3.51",
           "6.62",
           "-100.0",
           "-100.0",
           "-100.0"
          ],
          "yAxis": null,
          "yAxisLabel": null
         },
         {
          "color": "#FF7F0E",
          "color_opacity": 1,
          "elements": [
           {
            "_x": 1191016800000,
            "_y": "",
            "index": 0,
            "x": 0.47619047619047616,
            "y": 0.4956363466654221
           },
           {
            "_x": 1222466400000,
            "_y": "",
            "index": 1,
            "x": 0.48014605203103605,
            "y": 0.4956363466654221
           },
           {
            "_x": 1230332400000,
            "_y": "",
            "index": 2,
            "x": 0.4811353987814508,
            "y": 0.4956363466654221
           },
           {
            "_x": 1238194800000,
            "_y": "-40.57",
            "index": 3,
            "x": 0.4821242927415908,
            "y": 0.4877471570137365
           },
           {
            "_x": 1253916000000,
            "_y": "",
            "index": 4,
            "x": 0.48410162787159594,
            "y": 0.4956363466654221
           },
           {
            "_x": 1261782000000,
            "_y": "",
            "index": 5,
            "x": 0.4850909746220107,
            "y": 0.4956363466654221
           },
           {
            "_x": 1269644400000,
            "_y": "-5.3",
            "index": 6,
            "x": 0.48607986858215063,
            "y": 0.49460571553024996
           },
           {
            "_x": 1277503200000,
            "_y": "-1.16",
            "index": 7,
            "x": 0.4870683097520158,
            "y": 0.49541077456791277
           },
           {
            "_x": 1285365600000,
            "_y": "",
            "index": 8,
            "x": 0.4880572037121558,
            "y": 0.4956363466654221
           },
           {
            "_x": 1293231600000,
            "_y": "142.01",
            "index": 9,
            "x": 0.48904655046257056,
            "y": 0.5232514273268929
           },
           {
            "_x": 1301094000000,
            "_y": "12.58",
            "index": 10,
            "x": 0.4900354444227105,
            "y": 0.4980826371711703
           },
           {
            "_x": 1308952800000,
            "_y": "12.99",
            "index": 11,
            "x": 0.4910238855925757,
            "y": 0.49816236524011753
           },
           {
            "_x": 1316815200000,
            "_y": "6.41",
            "index": 12,
            "x": 0.49201277955271566,
            "y": 0.4968828269628661
           },
           {
            "_x": 1325286000000,
            "_y": "119.36",
            "index": 13,
            "x": 0.493078195069295,
            "y": 0.5188469376643177
           },
           {
            "_x": 1333144800000,
            "_y": "8.89",
            "index": 14,
            "x": 0.4940666362391602,
            "y": 0.49736508455064476
           },
           {
            "_x": 1341007200000,
            "_y": "3.85",
            "index": 15,
            "x": 0.49505553019930015,
            "y": 0.49638501267870755
           },
           {
            "_x": 1348869600000,
            "_y": "3.64",
            "index": 16,
            "x": 0.4960444241594401,
            "y": 0.49634417635071015
           },
           {
            "_x": 1356735600000,
            "_y": "56.05",
            "index": 17,
            "x": 0.4970337709098549,
            "y": 0.5065357570666293
           },
           {
            "_x": 1364598000000,
            "_y": "-0.55",
            "index": 18,
            "x": 0.49802266486999486,
            "y": 0.4955293943778099
           },
           {
            "_x": 1372456800000,
            "_y": "-2.21",
            "index": 19,
            "x": 0.49901110603986004,
            "y": 0.4952065929279258
           },
           {
            "_x": 1380319200000,
            "_y": "-0.01",
            "index": 20,
            "x": 0.5,
            "y": 0.49563440207837456
           },
           {
            "_x": 1388185200000,
            "_y": "29.22",
            "index": 21,
            "x": 0.5009893467504147,
            "y": 0.5013184300182013
           },
           {
            "_x": 1396047600000,
            "_y": "-3.5",
            "index": 22,
            "x": 0.5019782407105547,
            "y": 0.49495574119879904
           },
           {
            "_x": 1403906400000,
            "_y": "-3.2",
            "index": 23,
            "x": 0.5029666818804199,
            "y": 0.4950140788102239
           },
           {
            "_x": 1411768800000,
            "_y": "0.23",
            "index": 24,
            "x": 0.5039555758405598,
            "y": 0.4956810721675145
           },
           {
            "_x": 1419634800000,
            "_y": "44.71",
            "index": 25,
            "x": 0.5049449225909747,
            "y": 0.5043305953547704
           },
           {
            "_x": 1427497200000,
            "_y": "2.35",
            "index": 26,
            "x": 0.5059338165511146,
            "y": 0.49609332462158334
           },
           {
            "_x": 1435356000000,
            "_y": "1.53",
            "index": 27,
            "x": 0.5069222577209798,
            "y": 0.4959338684836888
           },
           {
            "_x": 1443218400000,
            "_y": "1.81",
            "index": 28,
            "x": 0.5079111516811198,
            "y": 0.49598831692101863
           },
           {
            "_x": 1451084400000,
            "_y": "21.39",
            "index": 29,
            "x": 0.5089004984315345,
            "y": 0.499795818360013
           },
           {
            "_x": 1458946800000,
            "_y": "-8.64",
            "index": 30,
            "x": 0.5098893923916744,
            "y": 0.4939562234563868
           },
           {
            "_x": 1466805600000,
            "_y": "-5.26",
            "index": 31,
            "x": 0.5108778335615396,
            "y": 0.49461349387843995
           },
           {
            "_x": 1474668000000,
            "_y": "-2.31",
            "index": 32,
            "x": 0.5118667275216796,
            "y": 0.49518714705745087
           },
           {
            "_x": 1483138800000,
            "_y": "15.06",
            "index": 33,
            "x": 0.512932143038259,
            "y": 0.498564894758949
           },
           {
            "_x": 1490997600000,
            "_y": "-7.28",
            "index": 34,
            "x": 0.5139205842081241,
            "y": 0.49422068729484603
           },
           {
            "_x": 1498860000000,
            "_y": "-4.21",
            "index": 35,
            "x": 0.5149094781682642,
            "y": 0.49481767551842687
           },
           {
            "_x": 1506722400000,
            "_y": "-0.78",
            "index": 36,
            "x": 0.5158983721284041,
            "y": 0.4954846688757175
           },
           {
            "_x": 1514588400000,
            "_y": "20.55",
            "index": 37,
            "x": 0.5168877188788188,
            "y": 0.49963247304802355
           },
           {
            "_x": 1522447200000,
            "_y": "-2.74",
            "index": 38,
            "x": 0.517876160048684,
            "y": 0.49510352981440864
           },
           {
            "_x": 1530309600000,
            "_y": "-1.2",
            "index": 39,
            "x": 0.518865054008824,
            "y": 0.4954029962197228
           },
           {
            "_x": 1538172000000,
            "_y": "1.86",
            "index": 40,
            "x": 0.5198539479689639,
            "y": 0.4959980398562561
           },
           {
            "_x": 1546038000000,
            "_y": "",
            "index": 41,
            "x": 0.5208432947193787,
            "y": 0.4956363466654221
           },
           {
            "_x": 1553900400000,
            "_y": "",
            "index": 42,
            "x": 0.5218321886795186,
            "y": 0.4956363466654221
           },
           {
            "_x": 1561759200000,
            "_y": "",
            "index": 43,
            "x": 0.5228206298493838,
            "y": 0.4956363466654221
           },
           {
            "_x": 1569621600000,
            "_y": "",
            "index": 44,
            "x": 0.5238095238095238,
            "y": 0.4956363466654221
           }
          ],
          "hasClickAction": false,
          "id": "i1",
          "index": 1,
          "interpolation": "linear",
          "legend": "RevenueSurprise%",
          "showItem": true,
          "stroke_dasharray": "",
          "stroke_opacity": 0,
          "style": "solid",
          "type": "line",
          "uid": "876e3f90-446f-4b4f-9f98-da551cea7c5e",
          "useToolTip": true,
          "visible": true,
          "width": 1.5,
          "x": [
           1191016800000,
           1222466400000,
           1230332400000,
           1238194800000,
           1253916000000,
           1261782000000,
           1269644400000,
           1277503200000,
           1285365600000,
           1293231600000,
           1301094000000,
           1308952800000,
           1316815200000,
           1325286000000,
           1333144800000,
           1341007200000,
           1348869600000,
           1356735600000,
           1364598000000,
           1372456800000,
           1380319200000,
           1388185200000,
           1396047600000,
           1403906400000,
           1411768800000,
           1419634800000,
           1427497200000,
           1435356000000,
           1443218400000,
           1451084400000,
           1458946800000,
           1466805600000,
           1474668000000,
           1483138800000,
           1490997600000,
           1498860000000,
           1506722400000,
           1514588400000,
           1522447200000,
           1530309600000,
           1538172000000,
           1546038000000,
           1553900400000,
           1561759200000,
           1569621600000
          ],
          "y": [
           "",
           "",
           "",
           "-40.57",
           "",
           "",
           "-5.3",
           "-1.16",
           "",
           "142.01",
           "12.58",
           "12.99",
           "6.41",
           "119.36",
           "8.89",
           "3.85",
           "3.64",
           "56.05",
           "-0.55",
           "-2.21",
           "-0.01",
           "29.22",
           "-3.5",
           "-3.2",
           "0.23",
           "44.71",
           "2.35",
           "1.53",
           "1.81",
           "21.39",
           "-8.64",
           "-5.26",
           "-2.31",
           "15.06",
           "-7.28",
           "-4.21",
           "-0.78",
           "20.55",
           "-2.74",
           "-1.2",
           "1.86",
           "",
           "",
           "",
           ""
          ],
          "yAxis": null,
          "yAxisLabel": null
         },
         {
          "color": "#2CA02C",
          "color_opacity": 1,
          "elements": [
           {
            "_x": 1191016800000,
            "_y": "",
            "index": 0,
            "x": 0.47619047619047616,
            "y": 0.4956363466654221
           },
           {
            "_x": 1222466400000,
            "_y": "",
            "index": 1,
            "x": 0.48014605203103605,
            "y": 0.4956363466654221
           },
           {
            "_x": 1230332400000,
            "_y": "",
            "index": 2,
            "x": 0.4811353987814508,
            "y": 0.4956363466654221
           },
           {
            "_x": 1238194800000,
            "_y": "-38.92",
            "index": 3,
            "x": 0.4821242927415908,
            "y": 0.48806801387657317
           },
           {
            "_x": 1253916000000,
            "_y": "",
            "index": 4,
            "x": 0.48410162787159594,
            "y": 0.4956363466654221
           },
           {
            "_x": 1261782000000,
            "_y": "",
            "index": 5,
            "x": 0.4850909746220107,
            "y": 0.4956363466654221
           },
           {
            "_x": 1269644400000,
            "_y": "-0.72",
            "index": 6,
            "x": 0.48607986858215063,
            "y": 0.49549633639800256
           },
           {
            "_x": 1277503200000,
            "_y": "-5.47",
            "index": 7,
            "x": 0.4870683097520158,
            "y": 0.4945726575504426
           },
           {
            "_x": 1285365600000,
            "_y": "",
            "index": 8,
            "x": 0.4880572037121558,
            "y": 0.4956363466654221
           },
           {
            "_x": 1293231600000,
            "_y": "122.94",
            "index": 9,
            "x": 0.48904655046257056,
            "y": 0.5195430998273207
           },
           {
            "_x": 1301094000000,
            "_y": "16.86",
            "index": 10,
            "x": 0.4900354444227105,
            "y": 0.498914920427498
           },
           {
            "_x": 1308952800000,
            "_y": "15.94",
            "index": 11,
            "x": 0.4910238855925757,
            "y": 0.4987360184191285
           },
           {
            "_x": 1316815200000,
            "_y": "6.11",
            "index": 12,
            "x": 0.49201277955271566,
            "y": 0.49682448935144136
           },
           {
            "_x": 1325286000000,
            "_y": "143.75",
            "index": 13,
            "x": 0.493078195069295,
            "y": 0.5235897854731569
           },
           {
            "_x": 1333144800000,
            "_y": "14.45",
            "index": 14,
            "x": 0.4940666362391602,
            "y": 0.49844627494905175
           },
           {
            "_x": 1341007200000,
            "_y": "1.55",
            "index": 15,
            "x": 0.49505553019930015,
            "y": 0.4959377576577838
           },
           {
            "_x": 1348869600000,
            "_y": "1.41",
            "index": 16,
            "x": 0.4960444241594401,
            "y": 0.49591053343911884
           },
           {
            "_x": 1356735600000,
            "_y": "-80.78",
            "index": 17,
            "x": 0.4970337709098549,
            "y": 0.47992797249576075
           },
           {
            "_x": 1364598000000,
            "_y": "106.99",
            "index": 18,
            "x": 0.49802266486999486,
            "y": 0.5164414834865667
           },
           {
            "_x": 1372456800000,
            "_y": "-8.8",
            "index": 19,
            "x": 0.49901110603986004,
            "y": 0.4939251100636268
           },
           {
            "_x": 1380319200000,
            "_y": "-86.14",
            "index": 20,
            "x": 0.5,
            "y": 0.4788856738383037
           },
           {
            "_x": 1388185200000,
            "_y": "-89.14",
            "index": 21,
            "x": 0.5009893467504147,
            "y": 0.47830229772405536
           },
           {
            "_x": 1396047600000,
            "_y": "82.75",
            "index": 22,
            "x": 0.5019782407105547,
            "y": 0.5117278044834399
           },
           {
            "_x": 1403906400000,
            "_y": "-86.36",
            "index": 23,
            "x": 0.5029666818804199,
            "y": 0.47884289292325877
           },
           {
            "_x": 1411768800000,
            "_y": "-68.96",
            "index": 24,
            "x": 0.5039555758405598,
            "y": 0.4822264743858994
           },
           {
            "_x": 1419634800000,
            "_y": "-80.8",
            "index": 25,
            "x": 0.5049449225909747,
            "y": 0.47992408332166575
           },
           {
            "_x": 1427497200000,
            "_y": "-65.14",
            "index": 26,
            "x": 0.5059338165511146,
            "y": 0.4829693066380424
           },
           {
            "_x": 1435356000000,
            "_y": "-47.24",
            "index": 27,
            "x": 0.5069222577209798,
            "y": 0.4864501174530577
           },
           {
            "_x": 1443218400000,
            "_y": "-39.33",
            "index": 28,
            "x": 0.5079111516811198,
            "y": 0.4879882858076259
           },
           {
            "_x": 1451084400000,
            "_y": "-38.28",
            "index": 29,
            "x": 0.5089004984315345,
            "y": 0.4881924674476128
           },
           {
            "_x": 1458946800000,
            "_y": "-58.33",
            "index": 30,
            "x": 0.5098893923916744,
            "y": 0.4842935704173862
           },
           {
            "_x": 1466805600000,
            "_y": "-38.46",
            "index": 31,
            "x": 0.5108778335615396,
            "y": 0.4881574648807579
           },
           {
            "_x": 1474668000000,
            "_y": "-28.35",
            "index": 32,
            "x": 0.5118667275216796,
            "y": 0.490123442385775
           },
           {
            "_x": 1483138800000,
            "_y": "-15.57",
            "index": 33,
            "x": 0.512932143038259,
            "y": 0.492608624632473
           },
           {
            "_x": 1490997600000,
            "_y": "-45.45",
            "index": 34,
            "x": 0.5139205842081241,
            "y": 0.48679819853455925
           },
           {
            "_x": 1498860000000,
            "_y": "-23.17",
            "index": 35,
            "x": 0.5149094781682642,
            "y": 0.4911307384763771
           },
           {
            "_x": 1506722400000,
            "_y": "-12.22",
            "index": 36,
            "x": 0.5158983721284041,
            "y": 0.4932600612933838
           },
           {
            "_x": 1514588400000,
            "_y": "24.86",
            "index": 37,
            "x": 0.5168877188788188,
            "y": 0.5004705900654937
           },
           {
            "_x": 1522447200000,
            "_y": "-25.63",
            "index": 38,
            "x": 0.517876160048684,
            "y": 0.49065237006269347
           },
           {
            "_x": 1530309600000,
            "_y": "-5.57",
            "index": 39,
            "x": 0.518865054008824,
            "y": 0.4945532116799676
           },
           {
            "_x": 1538172000000,
            "_y": "2.47",
            "index": 40,
            "x": 0.5198539479689639,
            "y": 0.49611665966615326
           },
           {
            "_x": 1546038000000,
            "_y": "53.53",
            "index": 41,
            "x": 0.5208432947193787,
            "y": 0.5060457211306607
           },
           {
            "_x": 1553900400000,
            "_y": "-20.85",
            "index": 42,
            "x": 0.5218321886795186,
            "y": 0.4915818826713959
           },
           {
            "_x": 1561759200000,
            "_y": "-2.81",
            "index": 43,
            "x": 0.5228206298493838,
            "y": 0.49508991770507615
           },
           {
            "_x": 1569621600000,
            "_y": "6.33",
            "index": 44,
            "x": 0.5238095238095238,
            "y": 0.4968672702664862
           }
          ],
          "hasClickAction": false,
          "id": "i2",
          "index": 2,
          "interpolation": "linear",
          "legend": "EarningsPerShareSurprise%",
          "showItem": true,
          "stroke_dasharray": "",
          "stroke_opacity": 0,
          "style": "solid",
          "type": "line",
          "uid": "d58738fd-58ff-4699-87ff-8925f185394e",
          "useToolTip": true,
          "visible": true,
          "width": 1.5,
          "x": [
           1191016800000,
           1222466400000,
           1230332400000,
           1238194800000,
           1253916000000,
           1261782000000,
           1269644400000,
           1277503200000,
           1285365600000,
           1293231600000,
           1301094000000,
           1308952800000,
           1316815200000,
           1325286000000,
           1333144800000,
           1341007200000,
           1348869600000,
           1356735600000,
           1364598000000,
           1372456800000,
           1380319200000,
           1388185200000,
           1396047600000,
           1403906400000,
           1411768800000,
           1419634800000,
           1427497200000,
           1435356000000,
           1443218400000,
           1451084400000,
           1458946800000,
           1466805600000,
           1474668000000,
           1483138800000,
           1490997600000,
           1498860000000,
           1506722400000,
           1514588400000,
           1522447200000,
           1530309600000,
           1538172000000,
           1546038000000,
           1553900400000,
           1561759200000,
           1569621600000
          ],
          "y": [
           "",
           "",
           "",
           "-38.92",
           "",
           "",
           "-0.72",
           "-5.47",
           "",
           "122.94",
           "16.86",
           "15.94",
           "6.11",
           "143.75",
           "14.45",
           "1.55",
           "1.41",
           "-80.78",
           "106.99",
           "-8.8",
           "-86.14",
           "-89.14",
           "82.75",
           "-86.36",
           "-68.96",
           "-80.8",
           "-65.14",
           "-47.24",
           "-39.33",
           "-38.28",
           "-58.33",
           "-38.46",
           "-28.35",
           "-15.57",
           "-45.45",
           "-23.17",
           "-12.22",
           "24.86",
           "-25.63",
           "-5.57",
           "2.47",
           "53.53",
           "-20.85",
           "-2.81",
           "6.33"
          ],
          "yAxis": null,
          "yAxisLabel": null
         }
        ],
        "init_height": 480,
        "init_width": 640,
        "legend_layout": "VERTICAL",
        "legend_position": {
         "position": "TOP_RIGHT",
         "type": "LegendPosition"
        },
        "log_x": false,
        "log_y": false,
        "numberOfPoints": 45,
        "omit_checkboxes": false,
        "outputPointsLimit": 1000000,
        "outputPointsPreviewNumber": 10000,
        "rangeAxes": [
         {
          "auto_range": true,
          "auto_range_includes_zero": false,
          "label": "",
          "log_base": 10,
          "lower_bound": 0,
          "lower_margin": 0,
          "type": "YAxis",
          "upper_bound": 0,
          "upper_margin": 0,
          "use_log": false
         }
        ],
        "rasters": [],
        "show_legend": true,
        "texts": [],
        "timezone": null,
        "tips": {},
        "type": "TimePlot",
        "use_tool_tip": true,
        "x_auto_range": true,
        "x_log_base": 10,
        "x_lower_bound": 0,
        "x_lower_margin": 0.05,
        "x_tickLabels_visible": true,
        "x_upper_bound": 0,
        "x_upper_margin": 0.05,
        "y_auto_range": true,
        "y_auto_range_includes_zero": false,
        "y_label": "",
        "y_lower_bound": 0,
        "y_lower_margin": 0,
        "y_tickLabels_visible": true,
        "y_upper_bound": 0,
        "y_upper_margin": 0
       }
      }
     },
     "61948449-cf76-469a-963f-564ddd29b5bb": {
      "model_module": "beakerx",
      "model_module_version": "*",
      "model_name": "PlotModel",
      "state": {
       "model": {
        "auto_zoom": false,
        "chart_title": null,
        "constant_bands": [],
        "constant_lines": [],
        "crosshair": null,
        "custom_styles": [],
        "domain_axis_label": "Time",
        "element_styles": {},
        "graphics_list": [
         {
          "color": "#1F77B4",
          "color_opacity": 1,
          "elements": [
           {
            "_x": 1191016800000,
            "_y": "",
            "index": 0,
            "x": 0.47619047619047616,
            "y": 0.4871497285941142
           },
           {
            "_x": 1222466400000,
            "_y": "",
            "index": 1,
            "x": 0.48014605203103605,
            "y": 0.4871497285941142
           },
           {
            "_x": 1230332400000,
            "_y": "",
            "index": 2,
            "x": 0.4811353987814508,
            "y": 0.4871497285941142
           },
           {
            "_x": 1238194800000,
            "_y": "",
            "index": 3,
            "x": 0.4821242927415908,
            "y": 0.4871497285941142
           },
           {
            "_x": 1253916000000,
            "_y": "",
            "index": 4,
            "x": 0.48410162787159594,
            "y": 0.4871497285941142
           },
           {
            "_x": 1261782000000,
            "_y": "",
            "index": 5,
            "x": 0.4850909746220107,
            "y": 0.4871497285941142
           },
           {
            "_x": 1269644400000,
            "_y": "",
            "index": 6,
            "x": 0.48607986858215063,
            "y": 0.4871497285941142
           },
           {
            "_x": 1277503200000,
            "_y": "",
            "index": 7,
            "x": 0.4870683097520158,
            "y": 0.4871497285941142
           },
           {
            "_x": 1285365600000,
            "_y": "",
            "index": 8,
            "x": 0.4880572037121558,
            "y": 0.4871497285941142
           },
           {
            "_x": 1293231600000,
            "_y": "",
            "index": 9,
            "x": 0.48904655046257056,
            "y": 0.4871497285941142
           },
           {
            "_x": 1301094000000,
            "_y": "40.14",
            "index": 10,
            "x": 0.4900354444227105,
            "y": 0.49154877250893453
           },
           {
            "_x": 1308952800000,
            "_y": "160.38",
            "index": 11,
            "x": 0.4910238855925757,
            "y": 0.5047261775990689
           },
           {
            "_x": 1316815200000,
            "_y": "3.04",
            "index": 12,
            "x": 0.49201277955271566,
            "y": 0.4874828898671848
           },
           {
            "_x": 1325286000000,
            "_y": "116.35",
            "index": 13,
            "x": 0.493078195069295,
            "y": 0.4999008187657471
           },
           {
            "_x": 1333144800000,
            "_y": "1.45",
            "index": 14,
            "x": 0.4940666362391602,
            "y": 0.48730863775396693
           },
           {
            "_x": 1341007200000,
            "_y": "-11.53",
            "index": 15,
            "x": 0.49505553019930015,
            "y": 0.4858861267919748
           },
           {
            "_x": 1348869600000,
            "_y": "-23.2",
            "index": 16,
            "x": 0.4960444241594401,
            "y": 0.4846071820364702
           },
           {
            "_x": 1356735600000,
            "_y": "86.92",
            "index": 17,
            "x": 0.4970337709098549,
            "y": 0.4966755107833564
           },
           {
            "_x": 1364598000000,
            "_y": "-6.5",
            "index": 18,
            "x": 0.49802266486999486,
            "y": 0.4864373771878777
           },
           {
            "_x": 1372456800000,
            "_y": "-6.23",
            "index": 19,
            "x": 0.49901110603986004,
            "y": 0.4864669671693676
           },
           {
            "_x": 1380319200000,
            "_y": "-3.48",
            "index": 20,
            "x": 0.5,
            "y": 0.48676834661046764
           },
           {
            "_x": 1388185200000,
            "_y": "65.55",
            "index": 21,
            "x": 0.5009893467504147,
            "y": 0.494333518544699
           },
           {
            "_x": 1396047600000,
            "_y": "-2.42",
            "index": 22,
            "x": 0.5019782407105547,
            "y": 0.4868845146859462
           },
           {
            "_x": 1403906400000,
            "_y": "-0.8",
            "index": 23,
            "x": 0.5029666818804199,
            "y": 0.4870620545748851
           },
           {
            "_x": 1411768800000,
            "_y": "-1.64",
            "index": 24,
            "x": 0.5039555758405598,
            "y": 0.4869699968546945
           },
           {
            "_x": 1419634800000,
            "_y": "98.34",
            "index": 25,
            "x": 0.5049449225909747,
            "y": 0.49792705740785187
           },
           {
            "_x": 1427497200000,
            "_y": "-0.13",
            "index": 26,
            "x": 0.5059338165511146,
            "y": 0.48713548156598946
           },
           {
            "_x": 1435356000000,
            "_y": "-0.91",
            "index": 27,
            "x": 0.5069222577209798,
            "y": 0.48704999939724114
           },
           {
            "_x": 1443218400000,
            "_y": "-0.68",
            "index": 28,
            "x": 0.5079111516811198,
            "y": 0.48707520567776946
           },
           {
            "_x": 1451084400000,
            "_y": "60.62",
            "index": 29,
            "x": 0.5089004984315345,
            "y": 0.4937932274011996
           },
           {
            "_x": 1458946800000,
            "_y": "-12.88",
            "index": 30,
            "x": 0.5098893923916744,
            "y": 0.48573817688452564
           },
           {
            "_x": 1466805600000,
            "_y": "-5.5",
            "index": 31,
            "x": 0.5108778335615396,
            "y": 0.48654696971191413
           },
           {
            "_x": 1474668000000,
            "_y": "-5.83",
            "index": 32,
            "x": 0.5118667275216796,
            "y": 0.4865108041789821
           },
           {
            "_x": 1483138800000,
            "_y": "89.99",
            "index": 33,
            "x": 0.512932143038259,
            "y": 0.4970119598321481
           },
           {
            "_x": 1490997600000,
            "_y": "-7.96",
            "index": 34,
            "x": 0.5139205842081241,
            "y": 0.4862773721027846
           },
           {
            "_x": 1498860000000,
            "_y": "-4.56",
            "index": 35,
            "x": 0.5149094781682642,
            "y": 0.48664998668450826
           },
           {
            "_x": 1506722400000,
            "_y": "-3.73",
            "index": 36,
            "x": 0.5158983721284041,
            "y": 0.48674094847945854
           },
           {
            "_x": 1514588400000,
            "_y": "96.11",
            "index": 37,
            "x": 0.5168877188788188,
            "y": 0.4976826660792507
           },
           {
            "_x": 1522447200000,
            "_y": "-1.63",
            "index": 38,
            "x": 0.517876160048684,
            "y": 0.4869710927799349
           },
           {
            "_x": 1530309600000,
            "_y": "3.35",
            "index": 39,
            "x": 0.518865054008824,
            "y": 0.48751686354963614
           },
           {
            "_x": 1538172000000,
            "_y": "-0.56",
            "index": 40,
            "x": 0.5198539479689639,
            "y": 0.4870883567806538
           },
           {
            "_x": 1546038000000,
            "_y": "53.41",
            "index": 41,
            "x": 0.5208432947193787,
            "y": 0.4930030653028973
           },
           {
            "_x": 1553900400000,
            "_y": "-100.0",
            "index": 42,
            "x": 0.5218321886795186,
            "y": 0.47619047619047616
           },
           {
            "_x": 1561759200000,
            "_y": "-100.0",
            "index": 43,
            "x": 0.5228206298493838,
            "y": 0.47619047619047616
           },
           {
            "_x": 1569621600000,
            "_y": "-100.0",
            "index": 44,
            "x": 0.5238095238095238,
            "y": 0.47619047619047616
           }
          ],
          "hasClickAction": false,
          "id": "i0",
          "index": 0,
          "interpolation": "linear",
          "legend": "NetIncomeSurprise%",
          "showItem": true,
          "stroke_dasharray": "",
          "stroke_opacity": 0,
          "style": "solid",
          "type": "line",
          "uid": "d79d8a80-c612-4c24-af59-8becb8904371",
          "useToolTip": true,
          "visible": true,
          "width": 1.5,
          "x": [
           1191016800000,
           1222466400000,
           1230332400000,
           1238194800000,
           1253916000000,
           1261782000000,
           1269644400000,
           1277503200000,
           1285365600000,
           1293231600000,
           1301094000000,
           1308952800000,
           1316815200000,
           1325286000000,
           1333144800000,
           1341007200000,
           1348869600000,
           1356735600000,
           1364598000000,
           1372456800000,
           1380319200000,
           1388185200000,
           1396047600000,
           1403906400000,
           1411768800000,
           1419634800000,
           1427497200000,
           1435356000000,
           1443218400000,
           1451084400000,
           1458946800000,
           1466805600000,
           1474668000000,
           1483138800000,
           1490997600000,
           1498860000000,
           1506722400000,
           1514588400000,
           1522447200000,
           1530309600000,
           1538172000000,
           1546038000000,
           1553900400000,
           1561759200000,
           1569621600000
          ],
          "y": [
           "",
           "",
           "",
           "",
           "",
           "",
           "",
           "",
           "",
           "",
           "40.14",
           "160.38",
           "3.04",
           "116.35",
           "1.45",
           "-11.53",
           "-23.2",
           "86.92",
           "-6.5",
           "-6.23",
           "-3.48",
           "65.55",
           "-2.42",
           "-0.8",
           "-1.64",
           "98.34",
           "-0.13",
           "-0.91",
           "-0.68",
           "60.62",
           "-12.88",
           "-5.5",
           "-5.83",
           "89.99",
           "-7.96",
           "-4.56",
           "-3.73",
           "96.11",
           "-1.63",
           "3.35",
           "-0.56",
           "53.41",
           "-100.0",
           "-100.0",
           "-100.0"
          ],
          "yAxis": null,
          "yAxisLabel": null
         },
         {
          "color": "#FF7F0E",
          "color_opacity": 1,
          "elements": [
           {
            "_x": 1191016800000,
            "_y": "",
            "index": 0,
            "x": 0.47619047619047616,
            "y": 0.4871497285941142
           },
           {
            "_x": 1222466400000,
            "_y": "",
            "index": 1,
            "x": 0.48014605203103605,
            "y": 0.4871497285941142
           },
           {
            "_x": 1230332400000,
            "_y": "",
            "index": 2,
            "x": 0.4811353987814508,
            "y": 0.4871497285941142
           },
           {
            "_x": 1238194800000,
            "_y": "",
            "index": 3,
            "x": 0.4821242927415908,
            "y": 0.4871497285941142
           },
           {
            "_x": 1253916000000,
            "_y": "",
            "index": 4,
            "x": 0.48410162787159594,
            "y": 0.4871497285941142
           },
           {
            "_x": 1261782000000,
            "_y": "",
            "index": 5,
            "x": 0.4850909746220107,
            "y": 0.4871497285941142
           },
           {
            "_x": 1269644400000,
            "_y": "",
            "index": 6,
            "x": 0.48607986858215063,
            "y": 0.4871497285941142
           },
           {
            "_x": 1277503200000,
            "_y": "",
            "index": 7,
            "x": 0.4870683097520158,
            "y": 0.4871497285941142
           },
           {
            "_x": 1285365600000,
            "_y": "",
            "index": 8,
            "x": 0.4880572037121558,
            "y": 0.4871497285941142
           },
           {
            "_x": 1293231600000,
            "_y": "",
            "index": 9,
            "x": 0.48904655046257056,
            "y": 0.4871497285941142
           },
           {
            "_x": 1301094000000,
            "_y": "15.5",
            "index": 10,
            "x": 0.4900354444227105,
            "y": 0.4888484127166781
           },
           {
            "_x": 1308952800000,
            "_y": "0.25",
            "index": 11,
            "x": 0.4910238855925757,
            "y": 0.4871771267251233
           },
           {
            "_x": 1316815200000,
            "_y": "-4.06",
            "index": 12,
            "x": 0.49201277955271566,
            "y": 0.48670478294652647
           },
           {
            "_x": 1325286000000,
            "_y": "64.14",
            "index": 13,
            "x": 0.493078195069295,
            "y": 0.4941789930858077
           },
           {
            "_x": 1333144800000,
            "_y": "2.08",
            "index": 14,
            "x": 0.4940666362391602,
            "y": 0.4873776810441099
           },
           {
            "_x": 1341007200000,
            "_y": "3.08",
            "index": 15,
            "x": 0.49505553019930015,
            "y": 0.48748727356814625
           },
           {
            "_x": 1348869600000,
            "_y": "0.44",
            "index": 16,
            "x": 0.4960444241594401,
            "y": 0.4871979493046902
           },
           {
            "_x": 1356735600000,
            "_y": "55.0",
            "index": 17,
            "x": 0.4970337709098549,
            "y": 0.49317731741611515
           },
           {
            "_x": 1364598000000,
            "_y": "-5.07",
            "index": 18,
            "x": 0.49802266486999486,
            "y": 0.4865940944972498
           },
           {
            "_x": 1372456800000,
            "_y": "-3.61",
            "index": 19,
            "x": 0.49901110603986004,
            "y": 0.4867540995823429
           },
           {
            "_x": 1380319200000,
            "_y": "-3.56",
            "index": 20,
            "x": 0.5,
            "y": 0.4867595792085447
           },
           {
            "_x": 1388185200000,
            "_y": "51.88",
            "index": 21,
            "x": 0.5009893467504147,
            "y": 0.49283538874112165
           },
           {
            "_x": 1396047600000,
            "_y": "32.01",
            "index": 22,
            "x": 0.5019782407105547,
            "y": 0.4906577852885188
           },
           {
            "_x": 1403906400000,
            "_y": "-2.38",
            "index": 23,
            "x": 0.5029666818804199,
            "y": 0.48688889838690763
           },
           {
            "_x": 1411768800000,
            "_y": "-1.98",
            "index": 24,
            "x": 0.5039555758405598,
            "y": 0.4869327353965222
           },
           {
            "_x": 1419634800000,
            "_y": "69.8",
            "index": 25,
            "x": 0.5049449225909747,
            "y": 0.4947992867718536
           },
           {
            "_x": 1427497200000,
            "_y": "2.81",
            "index": 26,
            "x": 0.5059338165511146,
            "y": 0.4874576835866565
           },
           {
            "_x": 1435356000000,
            "_y": "5.2",
            "index": 27,
            "x": 0.5069222577209798,
            "y": 0.4877196097191034
           },
           {
            "_x": 1443218400000,
            "_y": "0.17",
            "index": 28,
            "x": 0.5079111516811198,
            "y": 0.4871683593232004
           },
           {
            "_x": 1451084400000,
            "_y": "50.98",
            "index": 29,
            "x": 0.5089004984315345,
            "y": 0.4927367554694888
           },
           {
            "_x": 1458946800000,
            "_y": "4.07",
            "index": 30,
            "x": 0.5098893923916744,
            "y": 0.4875957701669422
           },
           {
            "_x": 1466805600000,
            "_y": "0.29",
            "index": 31,
            "x": 0.5108778335615396,
            "y": 0.48718151042608476
           },
           {
            "_x": 1474668000000,
            "_y": "-4.92",
            "index": 32,
            "x": 0.5118667275216796,
            "y": 0.4866105333758552
           },
           {
            "_x": 1483138800000,
            "_y": "65.75",
            "index": 33,
            "x": 0.512932143038259,
            "y": 0.49435543704950624
           },
           {
            "_x": 1490997600000,
            "_y": "-2.09",
            "index": 34,
            "x": 0.5139205842081241,
            "y": 0.4869206802188782
           },
           {
            "_x": 1498860000000,
            "_y": "4.14",
            "index": 35,
            "x": 0.5149094781682642,
            "y": 0.48760344164362485
           },
           {
            "_x": 1506722400000,
            "_y": "1.21",
            "index": 36,
            "x": 0.5158983721284041,
            "y": 0.4872823355481982
           },
           {
            "_x": 1514588400000,
            "_y": "76.06",
            "index": 37,
            "x": 0.5168877188788188,
            "y": 0.49548533597232136
           },
           {
            "_x": 1522447200000,
            "_y": "1.84",
            "index": 38,
            "x": 0.517876160048684,
            "y": 0.4873513788383412
           },
           {
            "_x": 1530309600000,
            "_y": "-10.68",
            "index": 39,
            "x": 0.518865054008824,
            "y": 0.4859792804374056
           },
           {
            "_x": 1538172000000,
            "_y": "-1.7",
            "index": 40,
            "x": 0.5198539479689639,
            "y": 0.4869634213032524
           },
           {
            "_x": 1546038000000,
            "_y": "",
            "index": 41,
            "x": 0.5208432947193787,
            "y": 0.4871497285941142
           },
           {
            "_x": 1553900400000,
            "_y": "",
            "index": 42,
            "x": 0.5218321886795186,
            "y": 0.4871497285941142
           },
           {
            "_x": 1561759200000,
            "_y": "",
            "index": 43,
            "x": 0.5228206298493838,
            "y": 0.4871497285941142
           },
           {
            "_x": 1569621600000,
            "_y": "",
            "index": 44,
            "x": 0.5238095238095238,
            "y": 0.4871497285941142
           }
          ],
          "hasClickAction": false,
          "id": "i1",
          "index": 1,
          "interpolation": "linear",
          "legend": "RevenueSurprise%",
          "showItem": true,
          "stroke_dasharray": "",
          "stroke_opacity": 0,
          "style": "solid",
          "type": "line",
          "uid": "d0c6b7a9-4fb5-43c3-a707-e9a6bd76250d",
          "useToolTip": true,
          "visible": true,
          "width": 1.5,
          "x": [
           1191016800000,
           1222466400000,
           1230332400000,
           1238194800000,
           1253916000000,
           1261782000000,
           1269644400000,
           1277503200000,
           1285365600000,
           1293231600000,
           1301094000000,
           1308952800000,
           1316815200000,
           1325286000000,
           1333144800000,
           1341007200000,
           1348869600000,
           1356735600000,
           1364598000000,
           1372456800000,
           1380319200000,
           1388185200000,
           1396047600000,
           1403906400000,
           1411768800000,
           1419634800000,
           1427497200000,
           1435356000000,
           1443218400000,
           1451084400000,
           1458946800000,
           1466805600000,
           1474668000000,
           1483138800000,
           1490997600000,
           1498860000000,
           1506722400000,
           1514588400000,
           1522447200000,
           1530309600000,
           1538172000000,
           1546038000000,
           1553900400000,
           1561759200000,
           1569621600000
          ],
          "y": [
           "",
           "",
           "",
           "",
           "",
           "",
           "",
           "",
           "",
           "",
           "15.5",
           "0.25",
           "-4.06",
           "64.14",
           "2.08",
           "3.08",
           "0.44",
           "55.0",
           "-5.07",
           "-3.61",
           "-3.56",
           "51.88",
           "32.01",
           "-2.38",
           "-1.98",
           "69.8",
           "2.81",
           "5.2",
           "0.17",
           "50.98",
           "4.07",
           "0.29",
           "-4.92",
           "65.75",
           "-2.09",
           "4.14",
           "1.21",
           "76.06",
           "1.84",
           "-10.68",
           "-1.7",
           "",
           "",
           "",
           ""
          ],
          "yAxis": null,
          "yAxisLabel": null
         },
         {
          "color": "#2CA02C",
          "color_opacity": 1,
          "elements": [
           {
            "_x": 1191016800000,
            "_y": "",
            "index": 0,
            "x": 0.47619047619047616,
            "y": 0.4871497285941142
           },
           {
            "_x": 1222466400000,
            "_y": "",
            "index": 1,
            "x": 0.48014605203103605,
            "y": 0.4871497285941142
           },
           {
            "_x": 1230332400000,
            "_y": "",
            "index": 2,
            "x": 0.4811353987814508,
            "y": 0.4871497285941142
           },
           {
            "_x": 1238194800000,
            "_y": "",
            "index": 3,
            "x": 0.4821242927415908,
            "y": 0.4871497285941142
           },
           {
            "_x": 1253916000000,
            "_y": "",
            "index": 4,
            "x": 0.48410162787159594,
            "y": 0.4871497285941142
           },
           {
            "_x": 1261782000000,
            "_y": "",
            "index": 5,
            "x": 0.4850909746220107,
            "y": 0.4871497285941142
           },
           {
            "_x": 1269644400000,
            "_y": "",
            "index": 6,
            "x": 0.48607986858215063,
            "y": 0.4871497285941142
           },
           {
            "_x": 1277503200000,
            "_y": "",
            "index": 7,
            "x": 0.4870683097520158,
            "y": 0.4871497285941142
           },
           {
            "_x": 1285365600000,
            "_y": "",
            "index": 8,
            "x": 0.4880572037121558,
            "y": 0.4871497285941142
           },
           {
            "_x": 1293231600000,
            "_y": "",
            "index": 9,
            "x": 0.48904655046257056,
            "y": 0.4871497285941142
           },
           {
            "_x": 1301094000000,
            "_y": "47.31",
            "index": 10,
            "x": 0.4900354444227105,
            "y": 0.4923345509062754
           },
           {
            "_x": 1308952800000,
            "_y": "16.1",
            "index": 11,
            "x": 0.4910238855925757,
            "y": 0.48891416823109995
           },
           {
            "_x": 1316815200000,
            "_y": "-5.35",
            "index": 12,
            "x": 0.49201277955271566,
            "y": 0.48656340859051955
           },
           {
            "_x": 1325286000000,
            "_y": "147.32",
            "index": 13,
            "x": 0.493078195069295,
            "y": 0.5032948992351537
           },
           {
            "_x": 1333144800000,
            "_y": "2.62",
            "index": 14,
            "x": 0.4940666362391602,
            "y": 0.4874368610070895
           },
           {
            "_x": 1341007200000,
            "_y": "-10.4",
            "index": 15,
            "x": 0.49505553019930015,
            "y": 0.4860099663441359
           },
           {
            "_x": 1348869600000,
            "_y": "-26.88",
            "index": 16,
            "x": 0.4960444241594401,
            "y": 0.4842038815480163
           },
           {
            "_x": 1356735600000,
            "_y": "-71.56",
            "index": 17,
            "x": 0.4970337709098549,
            "y": 0.4793072875740708
           },
           {
            "_x": 1364598000000,
            "_y": "334.51",
            "index": 18,
            "x": 0.49802266486999486,
            "y": 0.5238095238095238
           },
           {
            "_x": 1372456800000,
            "_y": "-18.61",
            "index": 19,
            "x": 0.49901110603986004,
            "y": 0.4851102117217972
           },
           {
            "_x": 1380319200000,
            "_y": "-88.1",
            "index": 20,
            "x": 0.5,
            "y": 0.4774946272265091
           },
           {
            "_x": 1388185200000,
            "_y": "-69.3",
            "index": 21,
            "x": 0.5009893467504147,
            "y": 0.47955496667839304
           },
           {
            "_x": 1396047600000,
            "_y": "147.73",
            "index": 22,
            "x": 0.5019782407105547,
            "y": 0.5033398321700087
           },
           {
            "_x": 1403906400000,
            "_y": "-83.67",
            "index": 23,
            "x": 0.5029666818804199,
            "y": 0.4779801221079903
           },
           {
            "_x": 1411768800000,
            "_y": "-54.12",
            "index": 24,
            "x": 0.5039555758405598,
            "y": 0.4812185811932653
           },
           {
            "_x": 1419634800000,
            "_y": "13.22",
            "index": 25,
            "x": 0.5049449225909747,
            "y": 0.48859854176187517
           },
           {
            "_x": 1427497200000,
            "_y": "-53.43",
            "index": 26,
            "x": 0.5059338165511146,
            "y": 0.4812942000348504
           },
           {
            "_x": 1435356000000,
            "_y": "-7.46",
            "index": 27,
            "x": 0.5069222577209798,
            "y": 0.4863321683648028
           },
           {
            "_x": 1443218400000,
            "_y": "-31.08",
            "index": 28,
            "x": 0.5079111516811198,
            "y": 0.48374359294706354
           },
           {
            "_x": 1451084400000,
            "_y": "-45.61",
            "index": 29,
            "x": 0.5089004984315345,
            "y": 0.48215121357281493
           },
           {
            "_x": 1458946800000,
            "_y": "-36.63",
            "index": 30,
            "x": 0.5098893923916744,
            "y": 0.48313535443866157
           },
           {
            "_x": 1466805600000,
            "_y": "-38.55",
            "index": 31,
            "x": 0.5108778335615396,
            "y": 0.48292493679251175
           },
           {
            "_x": 1474668000000,
            "_y": "-27.26",
            "index": 32,
            "x": 0.5118667275216796,
            "y": 0.48416223638888245
           },
           {
            "_x": 1483138800000,
            "_y": "-18.72",
            "index": 33,
            "x": 0.512932143038259,
            "y": 0.48509815654415317
           },
           {
            "_x": 1490997600000,
            "_y": "-22.7",
            "index": 34,
            "x": 0.5139205842081241,
            "y": 0.4846619782984884
           },
           {
            "_x": 1498860000000,
            "_y": "-21.85",
            "index": 35,
            "x": 0.5149094781682642,
            "y": 0.4847551319439193
           },
           {
            "_x": 1506722400000,
            "_y": "-14.59",
            "index": 36,
            "x": 0.5158983721284041,
            "y": 0.4855507736684234
           },
           {
            "_x": 1514588400000,
            "_y": "17.07",
            "index": 37,
            "x": 0.5168877188788188,
            "y": 0.4890204729794152
           },
           {
            "_x": 1522447200000,
            "_y": "-14.99",
            "index": 38,
            "x": 0.517876160048684,
            "y": 0.4855069366588089
           },
           {
            "_x": 1530309600000,
            "_y": "-13.59",
            "index": 39,
            "x": 0.518865054008824,
            "y": 0.4856603661924598
           },
           {
            "_x": 1538172000000,
            "_y": "-8.46",
            "index": 40,
            "x": 0.5198539479689639,
            "y": 0.48622257584076645
           },
           {
            "_x": 1546038000000,
            "_y": "2.85",
            "index": 41,
            "x": 0.5208432947193787,
            "y": 0.48746206728761793
           },
           {
            "_x": 1553900400000,
            "_y": "-20.52",
            "index": 42,
            "x": 0.5218321886795186,
            "y": 0.48490089000088765
           },
           {
            "_x": 1561759200000,
            "_y": "-19.47",
            "index": 43,
            "x": 0.5228206298493838,
            "y": 0.48501596215112586
           },
           {
            "_x": 1569621600000,
            "_y": "-6.85",
            "index": 44,
            "x": 0.5238095238095238,
            "y": 0.486399019804465
           }
          ],
          "hasClickAction": false,
          "id": "i2",
          "index": 2,
          "interpolation": "linear",
          "legend": "EarningsPerShareSurprise%",
          "showItem": true,
          "stroke_dasharray": "",
          "stroke_opacity": 0,
          "style": "solid",
          "type": "line",
          "uid": "67640449-fcfc-4097-9c96-3936e3adb0b7",
          "useToolTip": true,
          "visible": true,
          "width": 1.5,
          "x": [
           1191016800000,
           1222466400000,
           1230332400000,
           1238194800000,
           1253916000000,
           1261782000000,
           1269644400000,
           1277503200000,
           1285365600000,
           1293231600000,
           1301094000000,
           1308952800000,
           1316815200000,
           1325286000000,
           1333144800000,
           1341007200000,
           1348869600000,
           1356735600000,
           1364598000000,
           1372456800000,
           1380319200000,
           1388185200000,
           1396047600000,
           1403906400000,
           1411768800000,
           1419634800000,
           1427497200000,
           1435356000000,
           1443218400000,
           1451084400000,
           1458946800000,
           1466805600000,
           1474668000000,
           1483138800000,
           1490997600000,
           1498860000000,
           1506722400000,
           1514588400000,
           1522447200000,
           1530309600000,
           1538172000000,
           1546038000000,
           1553900400000,
           1561759200000,
           1569621600000
          ],
          "y": [
           "",
           "",
           "",
           "",
           "",
           "",
           "",
           "",
           "",
           "",
           "47.31",
           "16.1",
           "-5.35",
           "147.32",
           "2.62",
           "-10.4",
           "-26.88",
           "-71.56",
           "334.51",
           "-18.61",
           "-88.1",
           "-69.3",
           "147.73",
           "-83.67",
           "-54.12",
           "13.22",
           "-53.43",
           "-7.46",
           "-31.08",
           "-45.61",
           "-36.63",
           "-38.55",
           "-27.26",
           "-18.72",
           "-22.7",
           "-21.85",
           "-14.59",
           "17.07",
           "-14.99",
           "-13.59",
           "-8.46",
           "2.85",
           "-20.52",
           "-19.47",
           "-6.85"
          ],
          "yAxis": null,
          "yAxisLabel": null
         }
        ],
        "init_height": 480,
        "init_width": 640,
        "legend_layout": "VERTICAL",
        "legend_position": {
         "position": "TOP_RIGHT",
         "type": "LegendPosition"
        },
        "log_x": false,
        "log_y": false,
        "numberOfPoints": 45,
        "omit_checkboxes": false,
        "outputPointsLimit": 1000000,
        "outputPointsPreviewNumber": 10000,
        "rangeAxes": [
         {
          "auto_range": true,
          "auto_range_includes_zero": false,
          "label": "",
          "log_base": 10,
          "lower_bound": 0,
          "lower_margin": 0,
          "type": "YAxis",
          "upper_bound": 0,
          "upper_margin": 0,
          "use_log": false
         }
        ],
        "rasters": [],
        "show_legend": true,
        "texts": [],
        "timezone": null,
        "tips": {
         "i0_33": {
          "cx": 478.9,
          "cy": 255.5,
          "datax": 0.5129103752987682,
          "datay": 0.49685210622710624,
          "ele": {
           "_x": 1483138800000,
           "_y": "89.99",
           "index": 33,
           "x": 0.512932143038259,
           "y": 0.4970119598321481
          },
          "hidden": true,
          "id": "i0_33",
          "idx": 0,
          "isresp": true,
          "op": 0,
          "scrx": 478.6718749999999,
          "scry": 256.7812499999999,
          "sticking": false,
          "targetx": 0.5129334436477294,
          "targety": 0.497008547008547,
          "tooltip_cx": 478.9,
          "tooltip_cy": 255.5,
          "tooltip_r": 5
         }
        },
        "type": "TimePlot",
        "use_tool_tip": true,
        "x_auto_range": true,
        "x_log_base": 10,
        "x_lower_bound": 0,
        "x_lower_margin": 0.05,
        "x_tickLabels_visible": true,
        "x_upper_bound": 0,
        "x_upper_margin": 0.05,
        "y_auto_range": true,
        "y_auto_range_includes_zero": false,
        "y_label": "",
        "y_lower_bound": 0,
        "y_lower_margin": 0,
        "y_tickLabels_visible": true,
        "y_upper_bound": 0,
        "y_upper_margin": 0
       }
      }
     },
     "62faa6d1-de01-42b1-9b10-8af99a99a1b5": {
      "model_module": "beakerx",
      "model_module_version": "*",
      "model_name": "BxHTMLModel",
      "state": {
       "background_color": null,
       "color": null,
       "font_family": "",
       "font_size": "",
       "font_style": "",
       "font_weight": "",
       "layout": "IPY_MODEL_db74358e-1eb3-4d0c-8ab2-95dd985a2c70",
       "msg_throttle": 3,
       "placeholder": "",
       "value": "smart-edgar-1.0.2.jar, common-0.0.1-SNAPSHOT.jar, rome-1.12.0.jar, rome-utils-1.12.0.jar, jdom2-2.0.6.jar, slf4j-api-1.7.25.jar, slf4j-log4j12-1.7.25.jar, log4j-1.2.17.jar, postgresql-42.2.8.jar, jersey-container-servlet-2.29.1.jar, jersey-container-servlet-core-2.29.1.jar, jersey-common-2.29.1.jar, jakarta.annotation-api-1.3.5.jar, jersey-server-2.29.1.jar, jakarta.validation-api-2.0.2.jar, jakarta.ws.rs-api-2.1.6.jar, jersey-media-json-jackson-2.29.1.jar, jersey-entity-filtering-2.29.1.jar, jackson-module-jaxb-annotations-2.9.9.jar, jersey-media-moxy-2.29.1.jar, jakarta.json-api-1.1.5.jar, jakarta.json-1.1.5.jar, org.eclipse.persistence.moxy-2.7.4.jar, org.eclipse.persistence.core-2.7.4.jar, org.eclipse.persistence.asm-2.7.4.jar, jersey-media-json-processing-2.29.1.jar, jsonp-jaxrs-1.1.5.jar, jersey-media-multipart-2.29.1.jar, mimepull-1.9.11.jar, jersey-media-sse-2.29.1.jar, jakarta.inject-2.6.1.jar, jersey-container-jdk-http-2.29.1.jar, jersey-client-2.29.1.jar, jersey-media-jaxb-2.29.1.jar, osgi-resource-locator-1.0.3.jar, jersey-hk2-2.29.1.jar, hk2-locator-2.6.1.jar, aopalliance-repackaged-2.6.1.jar, hk2-api-2.6.1.jar, hk2-utils-2.6.1.jar, javassist-3.22.0-CR2.jar, jackson-databind-2.10.1.jar, jackson-annotations-2.10.1.jar, jackson-core-2.10.1.jar, commons-jcs-core-2.2.1.jar, commons-logging-1.2.jar, commons-math3-3.6.1.jar, timeseries-forecast-1.1.1.jar, junit-4.10.jar, hamcrest-core-1.1.jar, jsoup-1.12.1.jar, commons-io-2.6.jar, jaxb-api-2.3.0.jar, jaxb-core-2.3.0.jar, jaxb-impl-2.3.0.jar, activation-1.1.1.jar, jupyter-jdk-extensions-1.0.0.jar, httpmime-4.5.10.jar, httpclient-4.5.10.jar, httpcore-4.4.12.jar, commons-codec-1.11.jar, jfreechart-1.5.0.jar",
       "visible": true
      }
     },
     "88b217fc-fc2c-4fa3-8f53-fc60fc526c96": {
      "model_module": "beakerx",
      "model_module_version": "*",
      "model_name": "FoldoutModel",
      "state": {
       "background_color": null,
       "children": [
        "IPY_MODEL_62faa6d1-de01-42b1-9b10-8af99a99a1b5"
       ],
       "color": null,
       "description": "",
       "disabled": false,
       "font_family": "",
       "font_size": "",
       "font_style": "",
       "font_weight": "",
       "headerLabel": "Added jars: ",
       "hidePreview": false,
       "layout": "IPY_MODEL_e8cd15c3-c55d-4575-94ff-c61f72d1d416",
       "msg_throttle": 3,
       "visible": true
      }
     },
     "8aa796fe-564a-4778-973f-2ed7fd72dfd7": {
      "model_module": "beakerx",
      "model_module_version": "*",
      "model_name": "TableDisplayModel",
      "state": {
       "model": {
        "alignmentForColumn": {},
        "alignmentForType": {},
        "cellHighlighters": [],
        "columnNames": [
         "date",
         "companyName",
         "tradingSymbol",
         "identifier",
         "incorporation",
         "location",
         "sicDescription",
         "EarningsPerShareBasic",
         "NetIncomeLoss",
         "Revenue",
         "NetIncomeForecasted",
         "RevenueForecasted",
         "EarningsPerShareForecasted",
         "NetIncomeSurprise%",
         "RevenueSurprise%",
         "EarningsPerShareSurprise%"
        ],
        "columnOrder": [],
        "columnsFrozen": {},
        "columnsFrozenRight": {},
        "columnsVisible": {},
        "contextMenuItems": [],
        "contextMenuTags": {},
        "dataFontSize": null,
        "doubleClickTag": null,
        "fontColor": [],
        "hasDoubleClickAction": false,
        "hasIndex": null,
        "headerFontSize": null,
        "headersVertical": false,
        "rendererForColumn": {},
        "rendererForType": {},
        "stringFormatForColumn": {},
        "stringFormatForTimes": null,
        "stringFormatForType": {},
        "subtype": "ListOfMaps",
        "timeZone": null,
        "tooManyRows": false,
        "tooltips": [],
        "type": "TableDisplay",
        "types": [
         "string",
         "string",
         "string",
         "string",
         "string",
         "string",
         "string",
         "double",
         "double",
         "string",
         "string",
         "string",
         "string",
         "string",
         "string",
         "string"
        ],
        "values": [
         [
          "2007-09-29",
          "Apple Inc.",
          "AAPL",
          "0000320193",
          "CA",
          "CA",
          "ELECTRONIC COMPUTERS",
          4.04,
          3495000000,
          24578000000,
          "",
          "",
          "",
          "",
          "",
          ""
         ],
         [
          "2008-09-27",
          "Apple Inc.",
          "AAPL",
          "0000320193",
          "CA",
          "CA",
          "ELECTRONIC COMPUTERS",
          6.94,
          6119000000,
          37491000000,
          "",
          "",
          "",
          "",
          "",
          ""
         ],
         [
          "2008-12-27",
          "Apple Inc.",
          "AAPL",
          "0000320193",
          "CA",
          "CA",
          "ELECTRONIC COMPUTERS",
          2.54,
          2255000000,
          11880000000,
          "",
          "",
          "",
          "",
          "",
          ""
         ],
         [
          "2009-03-28",
          "Apple Inc.",
          "AAPL",
          "0000320193",
          "CA",
          "CA",
          "ELECTRONIC COMPUTERS",
          4.35,
          3875000000,
          20964000000,
          6306057900.03,
          35274826517.8,
          7.12,
          -38.55,
          -40.57,
          -38.92
         ],
         [
          "2009-09-26",
          "Apple Inc.",
          "AAPL",
          "0000320193",
          "CA",
          "CA",
          "ELECTRONIC COMPUTERS",
          9.22,
          8235000000,
          42905000000,
          "",
          "",
          "",
          "",
          "",
          ""
         ],
         [
          "2009-12-26",
          "Apple Inc.",
          "AAPL",
          "0000320193",
          "CA",
          "CA",
          "ELECTRONIC COMPUTERS",
          3.74,
          3378000000,
          15683000000,
          "",
          "",
          "",
          "",
          "",
          ""
         ],
         [
          "2010-03-27",
          "Apple Inc.",
          "AAPL",
          "0000320193",
          "CA",
          "CA",
          "ELECTRONIC COMPUTERS",
          7.12,
          6452000000,
          29182000000,
          6466789145.75,
          30813930807.13,
          7.17,
          -0.23,
          -5.3,
          -0.72
         ],
         [
          "2010-06-26",
          "Apple Inc.",
          "AAPL",
          "0000320193",
          "CA",
          "CA",
          "ELECTRONIC COMPUTERS",
          10.69,
          9705000000,
          44882000000,
          10254568990.91,
          45410892903.2,
          11.31,
          -5.36,
          -1.16,
          -5.47
         ],
         [
          "2010-09-25",
          "Apple Inc.",
          "AAPL",
          "0000320193",
          "CA",
          "CA",
          "ELECTRONIC COMPUTERS",
          15.41,
          14013000000,
          65225000000,
          "",
          "",
          "",
          "",
          "",
          ""
         ],
         [
          "2010-12-25",
          "Apple Inc.",
          "AAPL",
          "0000320193",
          "CA",
          "CA",
          "ELECTRONIC COMPUTERS",
          6.53,
          6004000000,
          26741000000,
          2683051782.98,
          11049580615.86,
          2.93,
          123.78,
          142.01,
          122.94
         ],
         [
          "2011-03-26",
          "Apple Inc.",
          "AAPL",
          "0000320193",
          "CA",
          "CA",
          "ELECTRONIC COMPUTERS",
          13.02,
          11991000000,
          51408000000,
          10236674484.51,
          45662980818.48,
          11.14,
          17.14,
          12.58,
          16.86
         ],
         [
          "2011-06-25",
          "Apple Inc.",
          "AAPL",
          "0000320193",
          "CA",
          "CA",
          "ELECTRONIC COMPUTERS",
          20.91,
          19299000000,
          79979000000,
          16606219840.14,
          70783252791.39,
          18.03,
          16.22,
          12.99,
          15.94
         ],
         [
          "2011-09-24",
          "Apple Inc.",
          "AAPL",
          "0000320193",
          "CA",
          "CA",
          "ELECTRONIC COMPUTERS",
          28.05,
          25922000000,
          108249000000,
          24399434335.35,
          101723524413.96,
          26.43,
          6.24,
          6.41,
          6.11
         ],
         [
          "2011-12-31",
          "Apple Inc.",
          "AAPL",
          "0000320193",
          "CA",
          "CA",
          "ELECTRONIC COMPUTERS",
          14.03,
          13064000000,
          46333000000,
          5334839140.71,
          21122322150.27,
          5.76,
          144.88,
          119.36,
          143.75
         ],
         [
          "2012-03-31",
          "Apple Inc.",
          "AAPL",
          "0000320193",
          "CA",
          "CA",
          "ELECTRONIC COMPUTERS",
          26.48,
          24686000000,
          85519000000,
          21551874069.12,
          78533727908.27,
          23.14,
          14.54,
          8.89,
          14.45
         ],
         [
          "2012-06-30",
          "Apple Inc.",
          "AAPL",
          "0000320193",
          "CA",
          "CA",
          "ELECTRONIC COMPUTERS",
          35.89,
          33510000000,
          120542000000,
          32913418240.44,
          116078358335.96,
          35.34,
          1.81,
          3.85,
          1.55
         ],
         [
          "2012-09-29",
          "Apple Inc.",
          "AAPL",
          "0000320193",
          "CA",
          "CA",
          "ELECTRONIC COMPUTERS",
          44.64,
          41733000000,
          156508000000,
          41076486856.76,
          151015482573.15,
          44.02,
          1.6,
          3.64,
          1.41
         ],
         [
          "2012-12-29",
          "Apple Inc.",
          "AAPL",
          "0000320193",
          "CA",
          "CA",
          "ELECTRONIC COMPUTERS",
          1.99,
          13078000000,
          54512000000,
          9674094393.57,
          34932815888.02,
          10.35,
          35.19,
          56.05,
          -80.78
         ],
         [
          "2013-03-30",
          "Apple Inc.",
          "AAPL",
          "0000320193",
          "CA",
          "CA",
          "ELECTRONIC COMPUTERS",
          24.09,
          22625000000,
          98115000000,
          24748650433.25,
          98659227746.1,
          11.64,
          -8.58,
          -0.55,
          106.99
         ],
         [
          "2013-06-29",
          "Apple Inc.",
          "AAPL",
          "0000320193",
          "CA",
          "CA",
          "ELECTRONIC COMPUTERS",
          31.67,
          29525000000,
          133438000000,
          32374935965.86,
          136449077376.81,
          34.73,
          -8.8,
          -2.21,
          -8.8
         ],
         [
          "2013-09-28",
          "Apple Inc.",
          "AAPL",
          "0000320193",
          "CA",
          "CA",
          "ELECTRONIC COMPUTERS",
          5.72,
          37037000000,
          170910000000,
          38416508310.71,
          170928467181.07,
          41.27,
          -3.59,
          -0.01,
          -86.14
         ],
         [
          "2013-12-28",
          "Apple Inc.",
          "AAPL",
          "0000320193",
          "CA",
          "CA",
          "ELECTRONIC COMPUTERS",
          2.08,
          13072000000,
          57594000000,
          11251520541.8,
          44571077161.52,
          19.16,
          16.18,
          29.22,
          -89.14
         ],
         [
          "2014-03-29",
          "Apple Inc.",
          "AAPL",
          "0000320193",
          "CA",
          "CA",
          "ELECTRONIC COMPUTERS",
          26.31,
          23295000000,
          103240000000,
          24443897526.69,
          106981972451.54,
          14.4,
          -4.7,
          -3.5,
          82.75
         ],
         [
          "2014-06-28",
          "Apple Inc.",
          "AAPL",
          "0000320193",
          "CA",
          "CA",
          "ELECTRONIC COMPUTERS",
          5.06,
          31043000000,
          140672000000,
          33097602398.82,
          145319303916.23,
          37.09,
          -6.21,
          -3.2,
          -86.36
         ],
         [
          "2014-09-27",
          "Apple Inc.",
          "AAPL",
          "0000320193",
          "CA",
          "CA",
          "ELECTRONIC COMPUTERS",
          6.49,
          39510000000,
          182795000000,
          40393712769.7,
          182379480700.04,
          20.91,
          -2.19,
          0.23,
          -68.96
         ],
         [
          "2014-12-27",
          "Apple Inc.",
          "AAPL",
          "0000320193",
          "CA",
          "CA",
          "ELECTRONIC COMPUTERS",
          3.08,
          18024000000,
          74599000000,
          12413324648.34,
          51549182606.27,
          16.05,
          45.2,
          44.71,
          -80.8
         ],
         [
          "2015-03-28",
          "Apple Inc.",
          "AAPL",
          "0000320193",
          "CA",
          "CA",
          "ELECTRONIC COMPUTERS",
          5.43,
          31593000000,
          132609000000,
          30292141556.36,
          129568887340.6,
          15.57,
          4.29,
          2.35,
          -65.14
         ],
         [
          "2015-06-27",
          "Apple Inc.",
          "AAPL",
          "0000320193",
          "CA",
          "CA",
          "ELECTRONIC COMPUTERS",
          7.3,
          42270000000,
          182214000000,
          42220297819.55,
          179473844356,
          13.84,
          0.12,
          1.53,
          -47.24
         ],
         [
          "2015-09-26",
          "Apple Inc.",
          "AAPL",
          "0000320193",
          "CA",
          "CA",
          "ELECTRONIC COMPUTERS",
          9.28,
          53394000000,
          233715000000,
          52628563487.8,
          229549401351.21,
          15.3,
          1.45,
          1.81,
          -39.33
         ],
         [
          "2015-12-26",
          "Apple Inc.",
          "AAPL",
          "0000320193",
          "CA",
          "CA",
          "ELECTRONIC COMPUTERS",
          3.3,
          18361000000,
          75872000000,
          15027691422.78,
          62501255831.21,
          5.35,
          22.18,
          21.39,
          -38.28
         ],
         [
          "2016-03-26",
          "Apple Inc.",
          "AAPL",
          "0000320193",
          "CA",
          "CA",
          "ELECTRONIC COMPUTERS",
          5.22,
          28877000000,
          126429000000,
          32327743641.04,
          138388538749.11,
          12.53,
          -10.67,
          -8.64,
          -58.33
         ],
         [
          "2016-06-25",
          "Apple Inc.",
          "AAPL",
          "0000320193",
          "CA",
          "CA",
          "ELECTRONIC COMPUTERS",
          6.66,
          36673000000,
          168787000000,
          40394648744.03,
          178153331916.51,
          10.82,
          -9.21,
          -5.26,
          -38.46
         ],
         [
          "2016-09-24",
          "Apple Inc.",
          "AAPL",
          "0000320193",
          "CA",
          "CA",
          "ELECTRONIC COMPUTERS",
          8.35,
          45687000000,
          215639000000,
          47880498449.07,
          220729931996.74,
          11.65,
          -4.58,
          -2.31,
          -28.35
         ],
         [
          "2016-12-31",
          "Apple Inc.",
          "AAPL",
          "0000320193",
          "CA",
          "CA",
          "ELECTRONIC COMPUTERS",
          3.38,
          17891000000,
          78351000000,
          16100094627.46,
          68095965302.73,
          4,
          11.12,
          15.06,
          -15.57
         ],
         [
          "2017-04-01",
          "Apple Inc.",
          "AAPL",
          "0000320193",
          "CA",
          "CA",
          "ELECTRONIC COMPUTERS",
          5.5,
          28920000000,
          131247000000,
          31522803251.16,
          141544867002.49,
          10.08,
          -8.26,
          -7.28,
          -45.45
         ],
         [
          "2017-07-01",
          "Apple Inc.",
          "AAPL",
          "0000320193",
          "CA",
          "CA",
          "ELECTRONIC COMPUTERS",
          7.18,
          37637000000,
          176655000000,
          40272489767.96,
          184409926599.09,
          9.35,
          -6.54,
          -4.21,
          -23.17
         ],
         [
          "2017-09-30",
          "Apple Inc.",
          "AAPL",
          "0000320193",
          "CA",
          "CA",
          "ELECTRONIC COMPUTERS",
          9.27,
          48351000000,
          229234000000,
          49030594050.02,
          231037691600.11,
          10.56,
          -1.39,
          -0.78,
          -12.22
         ],
         [
          "2017-12-30",
          "Apple Inc.",
          "AAPL",
          "0000320193",
          "CA",
          "CA",
          "ELECTRONIC COMPUTERS",
          3.92,
          20065000000,
          88293000000,
          17034656210.12,
          73241537809.76,
          3.14,
          17.79,
          20.55,
          24.86
         ],
         [
          "2018-03-31",
          "Apple Inc.",
          "AAPL",
          "0000320193",
          "CA",
          "CA",
          "ELECTRONIC COMPUTERS",
          6.69,
          33887000000,
          149430000000,
          33944566473.12,
          153643310494.47,
          9,
          -0.17,
          -2.74,
          -25.63
         ],
         [
          "2018-06-30",
          "Apple Inc.",
          "AAPL",
          "0000320193",
          "CA",
          "CA",
          "ELECTRONIC COMPUTERS",
          9.07,
          45406000000,
          202695000000,
          45587458577.74,
          205151721537.52,
          9.61,
          -0.4,
          -1.2,
          -5.57
         ],
         [
          "2018-09-29",
          "Apple Inc.",
          "AAPL",
          "0000320193",
          "CA",
          "CA",
          "ELECTRONIC COMPUTERS",
          12.01,
          59531000000,
          265595000000,
          57515022250.16,
          260742334030.42,
          11.72,
          3.51,
          1.86,
          2.47
         ],
         [
          "2018-12-29",
          "Apple Inc.",
          "AAPL",
          "0000320193",
          "CA",
          "CA",
          "ELECTRONIC COMPUTERS",
          4.22,
          19965000000,
          "",
          18725029535.43,
          80380526919.95,
          2.75,
          6.62,
          "",
          53.53
         ],
         [
          "2019-03-30",
          "Apple Inc.",
          "AAPL",
          "0000320193",
          "CA",
          "CA",
          "ELECTRONIC COMPUTERS",
          6.7,
          31526,
          "",
          34819550174.32,
          61518894672.85,
          8.47,
          -100,
          "",
          -20.85
         ],
         [
          "2019-06-29",
          "Apple Inc.",
          "AAPL",
          "0000320193",
          "CA",
          "CA",
          "ELECTRONIC COMPUTERS",
          8.92,
          41570,
          "",
          13878613848.3,
          50757557341.62,
          9.18,
          -100,
          "",
          -2.81
         ],
         [
          "2019-09-28",
          "Apple Inc.",
          "AAPL",
          "0000320193",
          "CA",
          "CA",
          "ELECTRONIC COMPUTERS",
          11.97,
          55256,
          "",
          11068820343.04,
          53186505858.26,
          11.26,
          -100,
          "",
          6.33
         ]
        ]
       }
      }
     },
     "c39d4ab7-c5e2-498d-bf98-1df4239f6c3f": {
      "model_module": "beakerx",
      "model_module_version": "*",
      "model_name": "TableDisplayModel",
      "state": {
       "model": {
        "alignmentForColumn": {},
        "alignmentForType": {},
        "cellHighlighters": [],
        "columnNames": [
         "date",
         "companyName",
         "tradingSymbol",
         "identifier",
         "incorporation",
         "location",
         "sicDescription",
         "EarningsPerShareBasic",
         "NetIncomeLoss",
         "Revenue",
         "NetIncomeForecasted",
         "RevenueForecasted",
         "EarningsPerShareForecasted",
         "NetIncomeSurprise%",
         "RevenueSurprise%",
         "EarningsPerShareSurprise%"
        ],
        "columnOrder": [],
        "columnsFrozen": {},
        "columnsFrozenRight": {},
        "columnsVisible": {},
        "contextMenuItems": [],
        "contextMenuTags": {},
        "dataFontSize": null,
        "doubleClickTag": null,
        "fontColor": [],
        "hasDoubleClickAction": false,
        "hasIndex": null,
        "headerFontSize": null,
        "headersVertical": false,
        "rendererForColumn": {},
        "rendererForType": {},
        "stringFormatForColumn": {},
        "stringFormatForTimes": null,
        "stringFormatForType": {},
        "subtype": "ListOfMaps",
        "timeZone": null,
        "tooManyRows": false,
        "tooltips": [],
        "type": "TableDisplay",
        "types": [
         "string",
         "string",
         "string",
         "string",
         "string",
         "string",
         "string",
         "double",
         "double",
         "string",
         "string",
         "string",
         "string",
         "string",
         "string",
         "string"
        ],
        "values": [
         [
          "2007-09-29",
          "Apple Inc.",
          "AAPL",
          "0000320193",
          "CA",
          "CA",
          "ELECTRONIC COMPUTERS",
          4.04,
          3495000000,
          24578000000,
          "",
          "",
          "",
          "",
          "",
          ""
         ],
         [
          "2008-09-27",
          "Apple Inc.",
          "AAPL",
          "0000320193",
          "CA",
          "CA",
          "ELECTRONIC COMPUTERS",
          6.94,
          6119000000,
          37491000000,
          "",
          "",
          "",
          "",
          "",
          ""
         ],
         [
          "2008-12-27",
          "Apple Inc.",
          "AAPL",
          "0000320193",
          "CA",
          "CA",
          "ELECTRONIC COMPUTERS",
          2.54,
          2255000000,
          11880000000,
          "",
          "",
          "",
          "",
          "",
          ""
         ],
         [
          "2009-03-28",
          "Apple Inc.",
          "AAPL",
          "0000320193",
          "CA",
          "CA",
          "ELECTRONIC COMPUTERS",
          4.35,
          3875000000,
          20964000000,
          "",
          "",
          "",
          "",
          "",
          ""
         ],
         [
          "2009-09-26",
          "Apple Inc.",
          "AAPL",
          "0000320193",
          "CA",
          "CA",
          "ELECTRONIC COMPUTERS",
          9.22,
          8235000000,
          42905000000,
          "",
          "",
          "",
          "",
          "",
          ""
         ],
         [
          "2009-12-26",
          "Apple Inc.",
          "AAPL",
          "0000320193",
          "CA",
          "CA",
          "ELECTRONIC COMPUTERS",
          3.74,
          3378000000,
          15683000000,
          "",
          "",
          "",
          "",
          "",
          ""
         ],
         [
          "2010-03-27",
          "Apple Inc.",
          "AAPL",
          "0000320193",
          "CA",
          "CA",
          "ELECTRONIC COMPUTERS",
          7.12,
          6452000000,
          29182000000,
          "",
          "",
          "",
          "",
          "",
          ""
         ],
         [
          "2010-06-26",
          "Apple Inc.",
          "AAPL",
          "0000320193",
          "CA",
          "CA",
          "ELECTRONIC COMPUTERS",
          10.69,
          9705000000,
          44882000000,
          "",
          "",
          "",
          "",
          "",
          ""
         ],
         [
          "2010-09-25",
          "Apple Inc.",
          "AAPL",
          "0000320193",
          "CA",
          "CA",
          "ELECTRONIC COMPUTERS",
          15.41,
          14013000000,
          65225000000,
          "",
          "",
          "",
          "",
          "",
          ""
         ],
         [
          "2010-12-25",
          "Apple Inc.",
          "AAPL",
          "0000320193",
          "CA",
          "CA",
          "ELECTRONIC COMPUTERS",
          6.53,
          6004000000,
          26741000000,
          "",
          "",
          "",
          "",
          "",
          ""
         ],
         [
          "2011-03-26",
          "Apple Inc.",
          "AAPL",
          "0000320193",
          "CA",
          "CA",
          "ELECTRONIC COMPUTERS",
          13.02,
          11991000000,
          51408000000,
          8556438394.74,
          44508722625.08,
          8.84,
          40.14,
          15.5,
          47.31
         ],
         [
          "2011-06-25",
          "Apple Inc.",
          "AAPL",
          "0000320193",
          "CA",
          "CA",
          "ELECTRONIC COMPUTERS",
          20.91,
          19299000000,
          79979000000,
          7411921606.39,
          79778951366.79,
          18.01,
          160.38,
          0.25,
          16.1
         ],
         [
          "2011-09-24",
          "Apple Inc.",
          "AAPL",
          "0000320193",
          "CA",
          "CA",
          "ELECTRONIC COMPUTERS",
          28.05,
          25922000000,
          108249000000,
          25156888611.78,
          112831902598.99,
          29.63,
          3.04,
          -4.06,
          -5.35
         ],
         [
          "2011-12-31",
          "Apple Inc.",
          "AAPL",
          "0000320193",
          "CA",
          "CA",
          "ELECTRONIC COMPUTERS",
          14.03,
          13064000000,
          46333000000,
          6038437506.03,
          28226874992.68,
          5.67,
          116.35,
          64.14,
          147.32
         ],
         [
          "2012-03-31",
          "Apple Inc.",
          "AAPL",
          "0000320193",
          "CA",
          "CA",
          "ELECTRONIC COMPUTERS",
          26.48,
          24686000000,
          85519000000,
          24332451406.83,
          83773257960.05,
          25.8,
          1.45,
          2.08,
          2.62
         ],
         [
          "2012-06-30",
          "Apple Inc.",
          "AAPL",
          "0000320193",
          "CA",
          "CA",
          "ELECTRONIC COMPUTERS",
          35.89,
          33510000000,
          120542000000,
          37878886397.69,
          116940160234.07,
          40.06,
          -11.53,
          3.08,
          -10.4
         ],
         [
          "2012-09-29",
          "Apple Inc.",
          "AAPL",
          "0000320193",
          "CA",
          "CA",
          "ELECTRONIC COMPUTERS",
          44.64,
          41733000000,
          156508000000,
          54343246419.45,
          155829699881.05,
          61.05,
          -23.2,
          0.44,
          -26.88
         ],
         [
          "2012-12-29",
          "Apple Inc.",
          "AAPL",
          "0000320193",
          "CA",
          "CA",
          "ELECTRONIC COMPUTERS",
          1.99,
          13078000000,
          54512000000,
          6996459083.66,
          35168792797.41,
          7,
          86.92,
          55,
          -71.56
         ],
         [
          "2013-03-30",
          "Apple Inc.",
          "AAPL",
          "0000320193",
          "CA",
          "CA",
          "ELECTRONIC COMPUTERS",
          24.09,
          22625000000,
          98115000000,
          24197187634.06,
          103356678049.88,
          5.54,
          -6.5,
          -5.07,
          334.51
         ],
         [
          "2013-06-29",
          "Apple Inc.",
          "AAPL",
          "0000320193",
          "CA",
          "CA",
          "ELECTRONIC COMPUTERS",
          31.67,
          29525000000,
          133438000000,
          31486818349.39,
          138431822700.78,
          38.91,
          -6.23,
          -3.61,
          -18.61
         ],
         [
          "2013-09-28",
          "Apple Inc.",
          "AAPL",
          "0000320193",
          "CA",
          "CA",
          "ELECTRONIC COMPUTERS",
          5.72,
          37037000000,
          170910000000,
          38370680323.13,
          177218643467.61,
          48.05,
          -3.48,
          -3.56,
          -88.1
         ],
         [
          "2013-12-28",
          "Apple Inc.",
          "AAPL",
          "0000320193",
          "CA",
          "CA",
          "ELECTRONIC COMPUTERS",
          2.08,
          13072000000,
          57594000000,
          7896334995.57,
          37921466446.46,
          6.77,
          65.55,
          51.88,
          -69.3
         ],
         [
          "2014-03-29",
          "Apple Inc.",
          "AAPL",
          "0000320193",
          "CA",
          "CA",
          "ELECTRONIC COMPUTERS",
          26.31,
          23295000000,
          103240000000,
          23873790267.72,
          78206077680.55,
          10.62,
          -2.42,
          32.01,
          147.73
         ],
         [
          "2014-06-28",
          "Apple Inc.",
          "AAPL",
          "0000320193",
          "CA",
          "CA",
          "ELECTRONIC COMPUTERS",
          5.06,
          31043000000,
          140672000000,
          31293955058.08,
          144103171483.09,
          30.98,
          -0.8,
          -2.38,
          -83.67
         ],
         [
          "2014-09-27",
          "Apple Inc.",
          "AAPL",
          "0000320193",
          "CA",
          "CA",
          "ELECTRONIC COMPUTERS",
          6.49,
          39510000000,
          182795000000,
          40168768606.79,
          186483910202.99,
          14.14,
          -1.64,
          -1.98,
          -54.12
         ],
         [
          "2014-12-27",
          "Apple Inc.",
          "AAPL",
          "0000320193",
          "CA",
          "CA",
          "ELECTRONIC COMPUTERS",
          3.08,
          18024000000,
          74599000000,
          9087423650.24,
          43933786441.46,
          2.72,
          98.34,
          69.8,
          13.22
         ],
         [
          "2015-03-28",
          "Apple Inc.",
          "AAPL",
          "0000320193",
          "CA",
          "CA",
          "ELECTRONIC COMPUTERS",
          5.43,
          31593000000,
          132609000000,
          31632578393.56,
          128980552780.45,
          11.66,
          -0.13,
          2.81,
          -53.43
         ],
         [
          "2015-06-27",
          "Apple Inc.",
          "AAPL",
          "0000320193",
          "CA",
          "CA",
          "ELECTRONIC COMPUTERS",
          7.3,
          42270000000,
          182214000000,
          42658996456.98,
          173206716813.42,
          7.89,
          -0.91,
          5.2,
          -7.46
         ],
         [
          "2015-09-26",
          "Apple Inc.",
          "AAPL",
          "0000320193",
          "CA",
          "CA",
          "ELECTRONIC COMPUTERS",
          9.28,
          53394000000,
          233715000000,
          53758061653.77,
          233314256248.43,
          13.46,
          -0.68,
          0.17,
          -31.08
         ],
         [
          "2015-12-26",
          "Apple Inc.",
          "AAPL",
          "0000320193",
          "CA",
          "CA",
          "ELECTRONIC COMPUTERS",
          3.3,
          18361000000,
          75872000000,
          11431432482.28,
          50251789582.68,
          6.07,
          60.62,
          50.98,
          -45.61
         ],
         [
          "2016-03-26",
          "Apple Inc.",
          "AAPL",
          "0000320193",
          "CA",
          "CA",
          "ELECTRONIC COMPUTERS",
          5.22,
          28877000000,
          126429000000,
          33146266679.74,
          121482915709.82,
          8.24,
          -12.88,
          4.07,
          -36.63
         ],
         [
          "2016-06-25",
          "Apple Inc.",
          "AAPL",
          "0000320193",
          "CA",
          "CA",
          "ELECTRONIC COMPUTERS",
          6.66,
          36673000000,
          168787000000,
          38806215325.21,
          168297555348.11,
          10.84,
          -5.5,
          0.29,
          -38.55
         ],
         [
          "2016-09-24",
          "Apple Inc.",
          "AAPL",
          "0000320193",
          "CA",
          "CA",
          "ELECTRONIC COMPUTERS",
          8.35,
          45687000000,
          215639000000,
          48514101651.37,
          226787204593.13,
          11.48,
          -5.83,
          -4.92,
          -27.26
         ],
         [
          "2016-12-31",
          "Apple Inc.",
          "AAPL",
          "0000320193",
          "CA",
          "CA",
          "ELECTRONIC COMPUTERS",
          3.38,
          17891000000,
          78351000000,
          9416716529.81,
          47270669963.58,
          4.16,
          89.99,
          65.75,
          -18.72
         ],
         [
          "2017-04-01",
          "Apple Inc.",
          "AAPL",
          "0000320193",
          "CA",
          "CA",
          "ELECTRONIC COMPUTERS",
          5.5,
          28920000000,
          131247000000,
          31420023188.41,
          134051127166.54,
          7.12,
          -7.96,
          -2.09,
          -22.7
         ],
         [
          "2017-07-01",
          "Apple Inc.",
          "AAPL",
          "0000320193",
          "CA",
          "CA",
          "ELECTRONIC COMPUTERS",
          7.18,
          37637000000,
          176655000000,
          39437118133.18,
          169625325568.01,
          9.19,
          -4.56,
          4.14,
          -21.85
         ],
         [
          "2017-09-30",
          "Apple Inc.",
          "AAPL",
          "0000320193",
          "CA",
          "CA",
          "ELECTRONIC COMPUTERS",
          9.27,
          48351000000,
          229234000000,
          50225855134.22,
          226498196660.86,
          10.85,
          -3.73,
          1.21,
          -14.59
         ],
         [
          "2017-12-30",
          "Apple Inc.",
          "AAPL",
          "0000320193",
          "CA",
          "CA",
          "ELECTRONIC COMPUTERS",
          3.92,
          20065000000,
          88293000000,
          10231359731.35,
          50150785770.16,
          3.35,
          96.11,
          76.06,
          17.07
         ],
         [
          "2018-03-31",
          "Apple Inc.",
          "AAPL",
          "0000320193",
          "CA",
          "CA",
          "ELECTRONIC COMPUTERS",
          6.69,
          33887000000,
          149430000000,
          34449188476.94,
          146729964185.83,
          7.87,
          -1.63,
          1.84,
          -14.99
         ],
         [
          "2018-06-30",
          "Apple Inc.",
          "AAPL",
          "0000320193",
          "CA",
          "CA",
          "ELECTRONIC COMPUTERS",
          9.07,
          45406000000,
          202695000000,
          43936132465.39,
          226920925060.62,
          10.5,
          3.35,
          -10.68,
          -13.59
         ],
         [
          "2018-09-29",
          "Apple Inc.",
          "AAPL",
          "0000320193",
          "CA",
          "CA",
          "ELECTRONIC COMPUTERS",
          12.01,
          59531000000,
          265595000000,
          59867910843,
          270184596246.97,
          13.12,
          -0.56,
          -1.7,
          -8.46
         ],
         [
          "2018-12-29",
          "Apple Inc.",
          "AAPL",
          "0000320193",
          "CA",
          "CA",
          "ELECTRONIC COMPUTERS",
          4.22,
          19965000000,
          "",
          13014238396.91,
          58283700335.68,
          4.1,
          53.41,
          "",
          2.85
         ],
         [
          "2019-03-30",
          "Apple Inc.",
          "AAPL",
          "0000320193",
          "CA",
          "CA",
          "ELECTRONIC COMPUTERS",
          6.7,
          31526,
          "",
          35080564824.19,
          51459064943.7,
          8.43,
          -100,
          "",
          -20.52
         ],
         [
          "2019-06-29",
          "Apple Inc.",
          "AAPL",
          "0000320193",
          "CA",
          "CA",
          "ELECTRONIC COMPUTERS",
          8.92,
          41570,
          "",
          4643136910.38,
          28489809594.98,
          11.08,
          -100,
          "",
          -19.47
         ],
         [
          "2019-09-28",
          "Apple Inc.",
          "AAPL",
          "0000320193",
          "CA",
          "CA",
          "ELECTRONIC COMPUTERS",
          11.97,
          55256,
          "",
          9126321505.71,
          9830081350.74,
          12.85,
          -100,
          "",
          -6.85
         ]
        ]
       }
      }
     },
     "cfcc5ad8-28e7-44a6-967c-86475eb769ed": {
      "model_module": "@jupyter-widgets/base",
      "model_module_version": "*",
      "model_name": "LayoutModel",
      "state": {
       "_model_module_version": "*",
       "_view_module_version": "*",
       "align_content": "",
       "align_self": "",
       "border": "",
       "bottom": "",
       "flex": "",
       "height": "",
       "justify_content": "",
       "left": "",
       "margin": "",
       "max_height": "",
       "max_width": "",
       "min_height": "",
       "min_width": "",
       "msg_throttle": 3,
       "overflow": "",
       "overflow_x": "",
       "overflow_y": "",
       "padding": "",
       "right": "",
       "top": ""
      }
     },
     "db74358e-1eb3-4d0c-8ab2-95dd985a2c70": {
      "model_module": "@jupyter-widgets/base",
      "model_module_version": "*",
      "model_name": "LayoutModel",
      "state": {
       "_model_module_version": "*",
       "_view_module_version": "*",
       "align_content": "",
       "align_self": "",
       "border": "",
       "bottom": "",
       "flex": "",
       "height": "",
       "justify_content": "",
       "left": "",
       "margin": "",
       "max_height": "",
       "max_width": "",
       "min_height": "",
       "min_width": "",
       "msg_throttle": 3,
       "overflow": "",
       "overflow_x": "",
       "overflow_y": "",
       "padding": "",
       "right": "",
       "top": ""
      }
     },
     "e8cd15c3-c55d-4575-94ff-c61f72d1d416": {
      "model_module": "@jupyter-widgets/base",
      "model_module_version": "*",
      "model_name": "LayoutModel",
      "state": {
       "_model_module_version": "*",
       "_view_module_version": "*",
       "align_content": "",
       "align_self": "",
       "border": "",
       "bottom": "",
       "flex": "",
       "height": "",
       "justify_content": "",
       "left": "",
       "margin": "",
       "max_height": "",
       "max_width": "",
       "min_height": "",
       "min_width": "",
       "msg_throttle": 3,
       "overflow": "",
       "overflow_x": "",
       "overflow_y": "",
       "padding": "",
       "right": "",
       "top": ""
      }
     },
     "f60f1aff-e0c1-440e-9256-21871effd141": {
      "model_module": "beakerx",
      "model_module_version": "*",
      "model_name": "PlotModel",
      "state": {
       "model": {
        "auto_zoom": false,
        "chart_title": null,
        "constant_bands": [],
        "constant_lines": [],
        "crosshair": null,
        "custom_styles": [],
        "domain_axis_label": "Time",
        "element_styles": {},
        "graphics_list": [
         {
          "color": "#1F77B4",
          "color_opacity": 1,
          "elements": [
           {
            "_x": 1191016800000,
            "_y": "3.495E9",
            "index": 0,
            "x": 0.47619047619047616,
            "y": 0.4789861384744723
           },
           {
            "_x": 1222466400000,
            "_y": "6.119E9",
            "index": 1,
            "x": 0.48014605203103605,
            "y": 0.48108508492174146
           },
           {
            "_x": 1230332400000,
            "_y": "2.255E9",
            "index": 2,
            "x": 0.4811353987814508,
            "y": 0.47799425829359815
           },
           {
            "_x": 1238194800000,
            "_y": "3.875E9",
            "index": 3,
            "x": 0.4821242927415908,
            "y": 0.4792901017557079
           },
           {
            "_x": 1253916000000,
            "_y": "8.235E9",
            "index": 4,
            "x": 0.48410162787159594,
            "y": 0.4827776804562009
           },
           {
            "_x": 1261782000000,
            "_y": "3.378E9",
            "index": 5,
            "x": 0.4850909746220107,
            "y": 0.4788925497799866
           },
           {
            "_x": 1269644400000,
            "_y": "6.452E9",
            "index": 6,
            "x": 0.48607986858215063,
            "y": 0.48135145274450847
           },
           {
            "_x": 1277503200000,
            "_y": "9.705E9",
            "index": 7,
            "x": 0.4870683097520158,
            "y": 0.4839535384125598
           },
           {
            "_x": 1285365600000,
            "_y": "1.4013E10",
            "index": 8,
            "x": 0.4880572037121558,
            "y": 0.48739952213772575
           },
           {
            "_x": 1293231600000,
            "_y": "6.004E9",
            "index": 9,
            "x": 0.48904655046257056,
            "y": 0.4809930960339991
           },
           {
            "_x": 1301094000000,
            "_y": "1.1991E10",
            "index": 10,
            "x": 0.4900354444227105,
            "y": 0.48578211752020356
           },
           {
            "_x": 1308952800000,
            "_y": "1.9299E10",
            "index": 11,
            "x": 0.4910238855925757,
            "y": 0.4916278113603877
           },
           {
            "_x": 1316815200000,
            "_y": "2.5922E10",
            "index": 12,
            "x": 0.49201277955271566,
            "y": 0.496925571390976
           },
           {
            "_x": 1325286000000,
            "_y": "1.3064E10",
            "index": 13,
            "x": 0.493078195069295,
            "y": 0.4866404138380084
           },
           {
            "_x": 1333144800000,
            "_y": "2.4686E10",
            "index": 14,
            "x": 0.4940666362391602,
            "y": 0.4959368908235885
           },
           {
            "_x": 1341007200000,
            "_y": "3.351E10",
            "index": 15,
            "x": 0.49505553019930015,
            "y": 0.5029952381752284
           },
           {
            "_x": 1348869600000,
            "_y": "4.1733E10",
            "index": 16,
            "x": 0.4960444241594401,
            "y": 0.509572843600493
           },
           {
            "_x": 1356735600000,
            "_y": "1.3078E10",
            "index": 17,
            "x": 0.4970337709098549,
            "y": 0.48665161248521177
           },
           {
            "_x": 1364598000000,
            "_y": "2.2625E10",
            "index": 18,
            "x": 0.49802266486999486,
            "y": 0.4942882899745711
           },
           {
            "_x": 1372456800000,
            "_y": "2.9525E10",
            "index": 19,
            "x": 0.49901110603986004,
            "y": 0.4998076232391127
           },
           {
            "_x": 1380319200000,
            "_y": "3.7037E10",
            "index": 20,
            "x": 0.5,
            "y": 0.5058164973671181
           },
           {
            "_x": 1388185200000,
            "_y": "1.3072E10",
            "index": 21,
            "x": 0.5009893467504147,
            "y": 0.48664681306498175
           },
           {
            "_x": 1396047600000,
            "_y": "2.3295E10",
            "index": 22,
            "x": 0.5019782407105547,
            "y": 0.49482422523359176
           },
           {
            "_x": 1403906400000,
            "_y": "3.1043E10",
            "index": 23,
            "x": 0.5029666818804199,
            "y": 0.5010218765573119
           },
           {
            "_x": 1411768800000,
            "_y": "3.951E10",
            "index": 24,
            "x": 0.5039555758405598,
            "y": 0.5077946584052646
           },
           {
            "_x": 1419634800000,
            "_y": "1.8024E10",
            "index": 25,
            "x": 0.5049449225909747,
            "y": 0.490607934561505
           },
           {
            "_x": 1427497200000,
            "_y": "3.1593E10",
            "index": 26,
            "x": 0.5059338165511146,
            "y": 0.5014618234117318
           },
           {
            "_x": 1435356000000,
            "_y": "4.227E10",
            "index": 27,
            "x": 0.5069222577209798,
            "y": 0.5100023917110813
           },
           {
            "_x": 1443218400000,
            "_y": "5.3394E10",
            "index": 28,
            "x": 0.5079111516811198,
            "y": 0.5189005168175684
           },
           {
            "_x": 1451084400000,
            "_y": "1.8361E10",
            "index": 29,
            "x": 0.5089004984315345,
            "y": 0.49087750199775865
           },
           {
            "_x": 1458946800000,
            "_y": "2.8877E10",
            "index": 30,
            "x": 0.5098893923916744,
            "y": 0.4992892858542688
           },
           {
            "_x": 1466805600000,
            "_y": "3.6673E10",
            "index": 31,
            "x": 0.5108778335615396,
            "y": 0.5055253325398292
           },
           {
            "_x": 1474668000000,
            "_y": "4.5687E10",
            "index": 32,
            "x": 0.5118667275216796,
            "y": 0.5127356615320869
           },
           {
            "_x": 1483138800000,
            "_y": "1.7891E10",
            "index": 33,
            "x": 0.512932143038259,
            "y": 0.4905015474130725
           },
           {
            "_x": 1490997600000,
            "_y": "2.892E10",
            "index": 34,
            "x": 0.5139205842081241,
            "y": 0.49932368169925073
           },
           {
            "_x": 1498860000000,
            "_y": "3.7637E10",
            "index": 35,
            "x": 0.5149094781682642,
            "y": 0.5062964393901217
           },
           {
            "_x": 1506722400000,
            "_y": "4.8351E10",
            "index": 36,
            "x": 0.5158983721284041,
            "y": 0.514866604114223
           },
           {
            "_x": 1514588400000,
            "_y": "2.0065E10",
            "index": 37,
            "x": 0.5168877188788188,
            "y": 0.492240537343089
           },
           {
            "_x": 1522447200000,
            "_y": "3.3887E10",
            "index": 38,
            "x": 0.517876160048684,
            "y": 0.503296801746349
           },
           {
            "_x": 1530309600000,
            "_y": "4.5406E10",
            "index": 39,
            "x": 0.518865054008824,
            "y": 0.5125108886846469
           },
           {
            "_x": 1538172000000,
            "_y": "5.9531E10",
            "index": 40,
            "x": 0.5198539479689639,
            "y": 0.5238095238095238
           },
           {
            "_x": 1546038000000,
            "_y": "1.9965E10",
            "index": 41,
            "x": 0.5208432947193787,
            "y": 0.4921605470059217
           },
           {
            "_x": 1553900400000,
            "_y": "31526.0",
            "index": 42,
            "x": 0.5218321886795186,
            "y": 0.4761905014082299
           },
           {
            "_x": 1561759200000,
            "_y": "41570.0",
            "index": 43,
            "x": 0.5228206298493838,
            "y": 0.47619050944245933
           },
           {
            "_x": 1569621600000,
            "_y": "55256.0",
            "index": 44,
            "x": 0.5238095238095238,
            "y": 0.4761905203899369
           }
          ],
          "hasClickAction": false,
          "id": "i0",
          "index": 0,
          "interpolation": "linear",
          "legend": "NetIncomeLoss",
          "showItem": true,
          "stroke_dasharray": "",
          "stroke_opacity": 0,
          "style": "solid",
          "type": "line",
          "uid": "8cc42dc2-30a0-4d1c-b194-4547c46d86fb",
          "useToolTip": true,
          "visible": true,
          "width": 1.5,
          "x": [
           1191016800000,
           1222466400000,
           1230332400000,
           1238194800000,
           1253916000000,
           1261782000000,
           1269644400000,
           1277503200000,
           1285365600000,
           1293231600000,
           1301094000000,
           1308952800000,
           1316815200000,
           1325286000000,
           1333144800000,
           1341007200000,
           1348869600000,
           1356735600000,
           1364598000000,
           1372456800000,
           1380319200000,
           1388185200000,
           1396047600000,
           1403906400000,
           1411768800000,
           1419634800000,
           1427497200000,
           1435356000000,
           1443218400000,
           1451084400000,
           1458946800000,
           1466805600000,
           1474668000000,
           1483138800000,
           1490997600000,
           1498860000000,
           1506722400000,
           1514588400000,
           1522447200000,
           1530309600000,
           1538172000000,
           1546038000000,
           1553900400000,
           1561759200000,
           1569621600000
          ],
          "y": [
           "3.495E9",
           "6.119E9",
           "2.255E9",
           "3.875E9",
           "8.235E9",
           "3.378E9",
           "6.452E9",
           "9.705E9",
           "1.4013E10",
           "6.004E9",
           "1.1991E10",
           "1.9299E10",
           "2.5922E10",
           "1.3064E10",
           "2.4686E10",
           "3.351E10",
           "4.1733E10",
           "1.3078E10",
           "2.2625E10",
           "2.9525E10",
           "3.7037E10",
           "1.3072E10",
           "2.3295E10",
           "3.1043E10",
           "3.951E10",
           "1.8024E10",
           "3.1593E10",
           "4.227E10",
           "5.3394E10",
           "1.8361E10",
           "2.8877E10",
           "3.6673E10",
           "4.5687E10",
           "1.7891E10",
           "2.892E10",
           "3.7637E10",
           "4.8351E10",
           "2.0065E10",
           "3.3887E10",
           "4.5406E10",
           "5.9531E10",
           "1.9965E10",
           "31526.0",
           "41570.0",
           "55256.0"
          ],
          "yAxis": null,
          "yAxisLabel": null
         },
         {
          "color": "#FF7F0E",
          "color_opacity": 1,
          "elements": [
           {
            "_x": 1191016800000,
            "_y": "",
            "index": 0,
            "x": 0.47619047619047616,
            "y": 0.47619047619047616
           },
           {
            "_x": 1222466400000,
            "_y": "",
            "index": 1,
            "x": 0.48014605203103605,
            "y": 0.47619047619047616
           },
           {
            "_x": 1230332400000,
            "_y": "",
            "index": 2,
            "x": 0.4811353987814508,
            "y": 0.47619047619047616
           },
           {
            "_x": 1238194800000,
            "_y": "6.30605790003E9",
            "index": 3,
            "x": 0.4821242927415908,
            "y": 0.4812347131666735
           },
           {
            "_x": 1253916000000,
            "_y": "",
            "index": 4,
            "x": 0.48410162787159594,
            "y": 0.47619047619047616
           },
           {
            "_x": 1261782000000,
            "_y": "",
            "index": 5,
            "x": 0.4850909746220107,
            "y": 0.47619047619047616
           },
           {
            "_x": 1269644400000,
            "_y": "6.46678914575E9",
            "index": 6,
            "x": 0.48607986858215063,
            "y": 0.481363282632058
           },
           {
            "_x": 1277503200000,
            "_y": "1.025456899091E10",
            "index": 7,
            "x": 0.4870683097520158,
            "y": 0.48439314050135546
           },
           {
            "_x": 1285365600000,
            "_y": "",
            "index": 8,
            "x": 0.4880572037121558,
            "y": 0.47619047619047616
           },
           {
            "_x": 1293231600000,
            "_y": "2.68305178298E9",
            "index": 9,
            "x": 0.48904655046257056,
            "y": 0.47833665835805433
           },
           {
            "_x": 1301094000000,
            "_y": "1.023667448451E10",
            "index": 10,
            "x": 0.4900354444227105,
            "y": 0.48437882662535164
           },
           {
            "_x": 1308952800000,
            "_y": "1.660621984014E10",
            "index": 11,
            "x": 0.4910238855925757,
            "y": 0.4894738474313423
           },
           {
            "_x": 1316815200000,
            "_y": "2.439943433535E10",
            "index": 12,
            "x": 0.49201277955271566,
            "y": 0.4957076659822293
           },
           {
            "_x": 1325286000000,
            "_y": "5.33483914071E9",
            "index": 13,
            "x": 0.493078195069295,
            "y": 0.4804578320064616
           },
           {
            "_x": 1333144800000,
            "_y": "2.155187406912E10",
            "index": 14,
            "x": 0.4940666362391602,
            "y": 0.49342989292423073
           },
           {
            "_x": 1341007200000,
            "_y": "3.291341824044E10",
            "index": 15,
            "x": 0.49505553019930015,
            "y": 0.5025180304142779
           },
           {
            "_x": 1348869600000,
            "_y": "4.107648685676E10",
            "index": 16,
            "x": 0.4960444241594401,
            "y": 0.509047696523668
           },
           {
            "_x": 1356735600000,
            "_y": "9.67409439357E9",
            "index": 17,
            "x": 0.4970337709098549,
            "y": 0.48392881691377276
           },
           {
            "_x": 1364598000000,
            "_y": "2.474865043325E10",
            "index": 18,
            "x": 0.49802266486999486,
            "y": 0.49598700511638194
           },
           {
            "_x": 1372456800000,
            "_y": "3.237493596586E10",
            "index": 19,
            "x": 0.49901110603986004,
            "y": 0.5020872966272554
           },
           {
            "_x": 1380319200000,
            "_y": "3.841650831071E10",
            "index": 20,
            "x": 0.5,
            "y": 0.5069199707161055
           },
           {
            "_x": 1388185200000,
            "_y": "1.12515205418E10",
            "index": 21,
            "x": 0.5009893467504147,
            "y": 0.4851906054083067
           },
           {
            "_x": 1396047600000,
            "_y": "2.444389752669E10",
            "index": 22,
            "x": 0.5019782407105547,
            "y": 0.4957432322388975
           },
           {
            "_x": 1403906400000,
            "_y": "3.309760239882E10",
            "index": 23,
            "x": 0.5029666818804199,
            "y": 0.5026653599435748
           },
           {
            "_x": 1411768800000,
            "_y": "4.03937127697E10",
            "index": 24,
            "x": 0.5039555758405598,
            "y": 0.5085015432293378
           },
           {
            "_x": 1419634800000,
            "_y": "1.241332464834E10",
            "index": 25,
            "x": 0.5049449225909747,
            "y": 0.4861199364303512
           },
           {
            "_x": 1427497200000,
            "_y": "3.029214155636E10",
            "index": 26,
            "x": 0.5059338165511146,
            "y": 0.5004212623565953
           },
           {
            "_x": 1435356000000,
            "_y": "4.222029781955E10",
            "index": 27,
            "x": 0.5069222577209798,
            "y": 0.5099626347693599
           },
           {
            "_x": 1443218400000,
            "_y": "5.26285634878E10",
            "index": 28,
            "x": 0.5079111516811198,
            "y": 0.5182882415706583
           },
           {
            "_x": 1451084400000,
            "_y": "1.502769142278E10",
            "index": 29,
            "x": 0.5089004984315345,
            "y": 0.4882111772280149
           },
           {
            "_x": 1458946800000,
            "_y": "3.232774364104E10",
            "index": 30,
            "x": 0.5098893923916744,
            "y": 0.5020495473275148
           },
           {
            "_x": 1466805600000,
            "_y": "4.039464874403E10",
            "index": 31,
            "x": 0.5108778335615396,
            "y": 0.5085022919183603
           },
           {
            "_x": 1474668000000,
            "_y": "4.788049844907E10",
            "index": 32,
            "x": 0.5118667275216796,
            "y": 0.5144902483372568
           },
           {
            "_x": 1483138800000,
            "_y": "1.610009462746E10",
            "index": 33,
            "x": 0.512932143038259,
            "y": 0.489068996167231
           },
           {
            "_x": 1490997600000,
            "_y": "3.152280325116E10",
            "index": 34,
            "x": 0.5139205842081241,
            "y": 0.5014056727956543
           },
           {
            "_x": 1498860000000,
            "_y": "4.027248976796E10",
            "index": 35,
            "x": 0.5149094781682642,
            "y": 0.5084045765415217
           },
           {
            "_x": 1506722400000,
            "_y": "4.903059405002E10",
            "index": 36,
            "x": 0.5158983721284041,
            "y": 0.5154102136862028
           },
           {
            "_x": 1514588400000,
            "_y": "1.703465621012E10",
            "index": 37,
            "x": 0.5168877188788188,
            "y": 0.4898165551282365
           },
           {
            "_x": 1522447200000,
            "_y": "3.394456647312E10",
            "index": 38,
            "x": 0.517876160048684,
            "y": 0.503342849362293
           },
           {
            "_x": 1530309600000,
            "_y": "4.558745857774E10",
            "index": 39,
            "x": 0.518865054008824,
            "y": 0.5126560380128
           },
           {
            "_x": 1538172000000,
            "_y": "5.751502225016E10",
            "index": 40,
            "x": 0.5198539479689639,
            "y": 0.5221969364102097
           },
           {
            "_x": 1546038000000,
            "_y": "1.872502953543E10",
            "index": 41,
            "x": 0.5208432947193787,
            "y": 0.4911686904505376
           },
           {
            "_x": 1553900400000,
            "_y": "3.481955017432E10",
            "index": 42,
            "x": 0.5218321886795186,
            "y": 0.5040427517750415
           },
           {
            "_x": 1561759200000,
            "_y": "1.38786138483E10",
            "index": 43,
            "x": 0.5228206298493838,
            "y": 0.48729202620187484
           },
           {
            "_x": 1569621600000,
            "_y": "1.106882034304E10",
            "index": 44,
            "x": 0.5238095238095238,
            "y": 0.4850444629033133
           }
          ],
          "hasClickAction": false,
          "id": "i1",
          "index": 1,
          "interpolation": "linear",
          "legend": "NetIncomeForecasted",
          "showItem": true,
          "stroke_dasharray": "",
          "stroke_opacity": 0,
          "style": "solid",
          "type": "line",
          "uid": "e9a33274-4f46-4879-a951-9dd327c50322",
          "useToolTip": true,
          "visible": true,
          "width": 1.5,
          "x": [
           1191016800000,
           1222466400000,
           1230332400000,
           1238194800000,
           1253916000000,
           1261782000000,
           1269644400000,
           1277503200000,
           1285365600000,
           1293231600000,
           1301094000000,
           1308952800000,
           1316815200000,
           1325286000000,
           1333144800000,
           1341007200000,
           1348869600000,
           1356735600000,
           1364598000000,
           1372456800000,
           1380319200000,
           1388185200000,
           1396047600000,
           1403906400000,
           1411768800000,
           1419634800000,
           1427497200000,
           1435356000000,
           1443218400000,
           1451084400000,
           1458946800000,
           1466805600000,
           1474668000000,
           1483138800000,
           1490997600000,
           1498860000000,
           1506722400000,
           1514588400000,
           1522447200000,
           1530309600000,
           1538172000000,
           1546038000000,
           1553900400000,
           1561759200000,
           1569621600000
          ],
          "y": [
           "",
           "",
           "",
           "6.30605790003E9",
           "",
           "",
           "6.46678914575E9",
           "1.025456899091E10",
           "",
           "2.68305178298E9",
           "1.023667448451E10",
           "1.660621984014E10",
           "2.439943433535E10",
           "5.33483914071E9",
           "2.155187406912E10",
           "3.291341824044E10",
           "4.107648685676E10",
           "9.67409439357E9",
           "2.474865043325E10",
           "3.237493596586E10",
           "3.841650831071E10",
           "1.12515205418E10",
           "2.444389752669E10",
           "3.309760239882E10",
           "4.03937127697E10",
           "1.241332464834E10",
           "3.029214155636E10",
           "4.222029781955E10",
           "5.26285634878E10",
           "1.502769142278E10",
           "3.232774364104E10",
           "4.039464874403E10",
           "4.788049844907E10",
           "1.610009462746E10",
           "3.152280325116E10",
           "4.027248976796E10",
           "4.903059405002E10",
           "1.703465621012E10",
           "3.394456647312E10",
           "4.558745857774E10",
           "5.751502225016E10",
           "1.872502953543E10",
           "3.481955017432E10",
           "1.38786138483E10",
           "1.106882034304E10"
          ],
          "yAxis": null,
          "yAxisLabel": null
         }
        ],
        "init_height": 480,
        "init_width": 640,
        "legend_layout": "VERTICAL",
        "legend_position": {
         "position": "TOP_RIGHT",
         "type": "LegendPosition"
        },
        "log_x": false,
        "log_y": false,
        "numberOfPoints": 45,
        "omit_checkboxes": false,
        "outputPointsLimit": 1000000,
        "outputPointsPreviewNumber": 10000,
        "rangeAxes": [
         {
          "auto_range": true,
          "auto_range_includes_zero": false,
          "label": "",
          "log_base": 10,
          "lower_bound": 0,
          "lower_margin": 0,
          "type": "YAxis",
          "upper_bound": 0,
          "upper_margin": 0,
          "use_log": false
         }
        ],
        "rasters": [],
        "show_legend": true,
        "texts": [],
        "timezone": null,
        "tips": {},
        "type": "TimePlot",
        "use_tool_tip": true,
        "x_auto_range": true,
        "x_log_base": 10,
        "x_lower_bound": 0,
        "x_lower_margin": 0.05,
        "x_tickLabels_visible": true,
        "x_upper_bound": 0,
        "x_upper_margin": 0.05,
        "y_auto_range": true,
        "y_auto_range_includes_zero": false,
        "y_label": "",
        "y_lower_bound": 0,
        "y_lower_margin": 0,
        "y_tickLabels_visible": true,
        "y_upper_bound": 0,
        "y_upper_margin": 0
       }
      }
     }
    },
    "version_major": 2,
    "version_minor": 0
   }
  }
 },
 "nbformat": 4,
 "nbformat_minor": 2
}
