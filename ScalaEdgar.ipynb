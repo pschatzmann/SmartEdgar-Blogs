{
 "cells": [
  {
   "cell_type": "markdown",
   "metadata": {},
   "source": [
    "# Smart-Edgar and Formulas\n",
    "In the last Blog we demonstrated how we can calculate KPIs with the help of Spark. \n",
    "\n",
    "We have extended Smart Edgar functionality so that we can implement Calculated KPIs direcltly with the help of formulas. Here is a short demo in Scala which uses\n",
    "- formulas\n",
    "- the built in 'coalesce' method  \n",
    "- the built in 'lag' method  \n",
    "- the built in 'percentChange' method  \n",
    "\n",
    "and displays the result in BeakerX Jupyter notebook as tables and charts using the Java API. This functionality is also available as webservice https://pschatzmann.ch/edgar/index.html#/DBService/post_db_companyValues\n",
    "\n",
    "## Setup\n",
    "We install the smart-egar library with the help of Maven"
   ]
  },
  {
   "cell_type": "code",
   "execution_count": 1,
   "metadata": {},
   "outputs": [
    {
     "name": "stdout",
     "output_type": "stream",
     "text": [
      "Added new repo: maven-public\n"
     ]
    },
    {
     "data": {
      "application/vnd.jupyter.widget-view+json": {
       "model_id": "",
       "version_major": 2,
       "version_minor": 0
      },
      "method": "display_data"
     },
     "metadata": {},
     "output_type": "display_data"
    },
    {
     "data": {
      "application/vnd.jupyter.widget-view+json": {
       "model_id": "57d82a29-3030-4bdf-806e-9d561c59b977",
       "version_major": 2,
       "version_minor": 0
      },
      "method": "display_data"
     },
     "metadata": {},
     "output_type": "display_data"
    }
   ],
   "source": [
    "%classpath config resolver maven-public http://software.pschatzmann.ch/repository/maven-public/\n",
    "%%classpath add mvn \n",
    "ch.pschatzmann:smart-edgar:1.0.2\n"
   ]
  },
  {
   "cell_type": "markdown",
   "metadata": {},
   "source": [
    "## Defining KPIs\n",
    "We can use the CompanyEdgarValues class which has been described in the last Blog and extend it with formulas. \n",
    "For BeakerX we ask that the Lists are converted to java.util.ArrayList and the dates to java.utilDate objects."
   ]
  },
  {
   "cell_type": "code",
   "execution_count": 5,
   "metadata": {},
   "outputs": [
    {
     "data": {
      "application/vnd.jupyter.widget-view+json": {
       "model_id": "e75afe0e-dcc7-4a14-b7db-ac4f9c427e8e",
       "version_major": 2,
       "version_minor": 0
      },
      "method": "display_data"
     },
     "metadata": {},
     "output_type": "display_data"
    }
   ],
   "source": [
    "import ch.pschatzmann.edgar.reporting.company._\n",
    "\n",
    "val values = new CompanyEdgarValuesDB(new CompanySelection().setTradingSymbol(\"AAPL\"))\n",
    "    .setUseArrayList(true)\n",
    "    .setAddTime(true)\n",
    "    .setFilter(new FilterYearly())\n",
    "    .setParameterNames(\"NetIncomeLoss\",\"OperatingIncomeLoss\",\"ResearchAndDevelopmentExpense\",\n",
    "        \"CashAndCashEquivalentsAtCarryingValue\",\"AvailableForSaleSecuritiesCurrent\",\"AccountsReceivableNetCurrent\",\n",
    "        \"Revenues\",\"SalesRevenueNet\",\"InventoryNet\",\"AssetsCurrent\",\"LiabilitiesCurrent\",\"Assets\",\"EarningsPerShareBasic\",\n",
    "        \"StockholdersEquity\")\n",
    "    .addFormula(\"Revenue\",\"Edgar.coalesce('Revenues', 'SalesRevenueNet')\")\n",
    "    .addFormula(\"QuickRatio\",\"(CashAndCashEquivalentsAtCarryingValue + AccountsReceivableNetCurrent + AvailableForSaleSecuritiesCurrent) / LiabilitiesCurrent\")\n",
    "    .addFormula(\"CurrentRatio\",\"AssetsCurrent / LiabilitiesCurrent\")\n",
    "    .addFormula(\"InventoryTurnover\",\"Revenue / InventoryNet\")\n",
    "    .addFormula(\"NetProfitMargin\",\"NetIncomeLoss / Revenue\")\n",
    "    .addFormula(\"SalesResearchRatio%\",\"ResearchAndDevelopmentExpense / Revenue *100\")\n",
    "    .addFormula(\"NetIncomeResearchRatio%\",\"ResearchAndDevelopmentExpense / NetIncomeLoss * 100\")\n",
    "    .addFormula(\"NetIncomeChange%\", \"NetIncomeLoss - Edgar.lag('NetIncomeLoss', -1) / Edgar.lag('NetIncomeLoss', -1) * 100 \")  \n",
    "    .addFormula(\"RevenueChange%\", \"Edgar.percentChange('Revenue')\" )  \n",
    "    .addFormula(\"ResearchAndDevelopmentChange%\",\"Edgar.percentChange('ResearchAndDevelopmentExpense')\" )\n",
    "    .removeParameterNames(\"Revenues\",\"SalesRevenueNet\")\n",
    "\n",
    "\n",
    "val list = values.toList"
   ]
  },
  {
   "cell_type": "markdown",
   "metadata": {},
   "source": [
    "We need to convert the Java data to a Scala Seq of scala Maps that can be used in a SimpleTimePlot"
   ]
  },
  {
   "cell_type": "code",
   "execution_count": 6,
   "metadata": {},
   "outputs": [
    {
     "data": {
      "application/vnd.jupyter.widget-view+json": {
       "model_id": "e2414313-b6d7-40d5-8787-084a57bc69d3",
       "version_major": 2,
       "version_minor": 0
      },
      "method": "display_data"
     },
     "metadata": {},
     "output_type": "display_data"
    }
   ],
   "source": [
    "import scala.collection.JavaConverters._\n",
    "\n",
    "val scalaValues = values.toList.asScala\n",
    "  .map(_.asScala.toMap)\n",
    "  .toSeq\n",
    "\n",
    "new SimpleTimePlot {\n",
    "    data = scalaValues\n",
    "    columns = Seq(\"NetIncomeLoss\",\"ResearchAndDevelopmentExpense\")\n",
    "    yLabel = \"US $\"\n",
    "    timeColumn = \"time\"\n",
    "}"
   ]
  },
  {
   "cell_type": "code",
   "execution_count": 7,
   "metadata": {},
   "outputs": [
    {
     "data": {
      "application/vnd.jupyter.widget-view+json": {
       "model_id": "9b5f47ef-7702-4572-9454-b0e8db86c392",
       "version_major": 2,
       "version_minor": 0
      },
      "method": "display_data"
     },
     "metadata": {},
     "output_type": "display_data"
    }
   ],
   "source": [
    "new SimpleTimePlot {\n",
    "    data = scalaValues\n",
    "    columns = Seq(\"QuickRatio\",\"CurrentRatio\",\"SalesResearchRatio%\")\n",
    "}"
   ]
  },
  {
   "cell_type": "code",
   "execution_count": null,
   "metadata": {},
   "outputs": [],
   "source": []
  }
 ],
 "metadata": {
  "kernelspec": {
   "display_name": "Scala",
   "language": "scala",
   "name": "scala"
  },
  "language_info": {
   "codemirror_mode": "text/x-scala",
   "file_extension": ".scala",
   "mimetype": "",
   "name": "Scala",
   "nbconverter_exporter": "",
   "version": "2.11.12"
  },
  "toc": {
   "base_numbering": 1,
   "nav_menu": {},
   "number_sections": false,
   "sideBar": false,
   "skip_h1_title": false,
   "title_cell": "Table of Contents",
   "title_sidebar": "Contents",
   "toc_cell": false,
   "toc_position": {},
   "toc_section_display": false,
   "toc_window_display": false
  },
  "widgets": {
   "application/vnd.jupyter.widget-state+json": {
    "state": {
     "57d82a29-3030-4bdf-806e-9d561c59b977": {
      "model_module": "beakerx",
      "model_module_version": "*",
      "model_name": "FoldoutModel",
      "state": {
       "background_color": null,
       "children": [
        "IPY_MODEL_f64f0fa1-a7b6-4742-ae7e-1c12a2997f35"
       ],
       "color": null,
       "description": "",
       "disabled": false,
       "font_family": "",
       "font_size": "",
       "font_style": "",
       "font_weight": "",
       "headerLabel": "Added jars: ",
       "hidePreview": false,
       "layout": "IPY_MODEL_a9e39ba4-0e44-424b-ae76-502c2e09b471",
       "msg_throttle": 3,
       "visible": true
      }
     },
     "9b5f47ef-7702-4572-9454-b0e8db86c392": {
      "model_module": "beakerx",
      "model_module_version": "*",
      "model_name": "PlotModel",
      "state": {
       "model": {
        "auto_zoom": false,
        "chart_title": null,
        "constant_bands": [],
        "constant_lines": [],
        "crosshair": null,
        "custom_styles": [],
        "domain_axis_label": "Time",
        "element_styles": {},
        "graphics_list": [
         {
          "color": "#1F77B4",
          "color_opacity": 1,
          "elements": [
           {
            "_x": 1159567200000,
            "_y": "",
            "index": 0,
            "x": 0.47619047619047616,
            "y": 0.4761904761904762
           },
           {
            "_x": 1191016800000,
            "_y": "",
            "index": 1,
            "x": 0.47984267453294,
            "y": 0.4761904761904762
           },
           {
            "_x": 1222466400000,
            "_y": "2.16",
            "index": 2,
            "x": 0.4834948728754038,
            "y": 0.4953802416488984
           },
           {
            "_x": 1253916000000,
            "_y": "2.33",
            "index": 3,
            "x": 0.48714707121786766,
            "y": 0.4968905472636816
           },
           {
            "_x": 1285365600000,
            "_y": "1.5",
            "index": 4,
            "x": 0.4907992695603315,
            "y": 0.48951670220326937
           },
           {
            "_x": 1316815200000,
            "_y": "1.12",
            "index": 5,
            "x": 0.4944514679027953,
            "y": 0.4861407249466951
           },
           {
            "_x": 1348869600000,
            "_y": "1.04",
            "index": 6,
            "x": 0.4981739008287681,
            "y": 0.48542999289267946
           },
           {
            "_x": 1380319200000,
            "_y": "1.23",
            "index": 7,
            "x": 0.5018260991712319,
            "y": 0.4871179815209666
           },
           {
            "_x": 1411768800000,
            "_y": "0.67",
            "index": 8,
            "x": 0.5054782975136958,
            "y": 0.48214285714285715
           },
           {
            "_x": 1443218400000,
            "_y": "0.73",
            "index": 9,
            "x": 0.5091304958561595,
            "y": 0.48267590618336886
           },
           {
            "_x": 1474668000000,
            "_y": "1.05",
            "index": 10,
            "x": 0.5127826941986234,
            "y": 0.4855188343994314
           },
           {
            "_x": 1506722400000,
            "_y": "0.91",
            "index": 11,
            "x": 0.5165051271245962,
            "y": 0.484275053304904
           },
           {
            "_x": 1538172000000,
            "_y": "0.77",
            "index": 12,
            "x": 0.52015732546706,
            "y": 0.4830312722103767
           },
           {
            "_x": 1569621600000,
            "_y": "",
            "index": 13,
            "x": 0.5238095238095238,
            "y": 0.4761904761904762
           }
          ],
          "hasClickAction": false,
          "id": "i0",
          "index": 0,
          "interpolation": "linear",
          "legend": "QuickRatio",
          "showItem": true,
          "stroke_dasharray": "",
          "stroke_opacity": 0,
          "style": "solid",
          "type": "line",
          "uid": "8c77eb48-ffee-4a53-8605-9cefeb4ef226",
          "useToolTip": true,
          "visible": true,
          "width": 1.5,
          "x": [
           1159567200000,
           1191016800000,
           1222466400000,
           1253916000000,
           1285365600000,
           1316815200000,
           1348869600000,
           1380319200000,
           1411768800000,
           1443218400000,
           1474668000000,
           1506722400000,
           1538172000000,
           1569621600000
          ],
          "y": [
           "",
           "",
           "2.16",
           "2.33",
           "1.5",
           "1.12",
           "1.04",
           "1.23",
           "0.67",
           "0.73",
           "1.05",
           "0.91",
           "0.77",
           ""
          ],
          "yAxis": null,
          "yAxisLabel": null
         },
         {
          "color": "#FF7F0E",
          "color_opacity": 1,
          "elements": [
           {
            "_x": 1159567200000,
            "_y": "",
            "index": 0,
            "x": 0.47619047619047616,
            "y": 0.4761904761904762
           },
           {
            "_x": 1191016800000,
            "_y": "",
            "index": 1,
            "x": 0.47984267453294,
            "y": 0.4761904761904762
           },
           {
            "_x": 1222466400000,
            "_y": "2.64",
            "index": 2,
            "x": 0.4834948728754038,
            "y": 0.4996446339729922
           },
           {
            "_x": 1253916000000,
            "_y": "2.74",
            "index": 3,
            "x": 0.48714707121786766,
            "y": 0.5005330490405118
           },
           {
            "_x": 1285365600000,
            "_y": "2.01",
            "index": 4,
            "x": 0.4907992695603315,
            "y": 0.494047619047619
           },
           {
            "_x": 1316815200000,
            "_y": "1.61",
            "index": 5,
            "x": 0.4944514679027953,
            "y": 0.4904939587775409
           },
           {
            "_x": 1348869600000,
            "_y": "1.5",
            "index": 6,
            "x": 0.4981739008287681,
            "y": 0.48951670220326937
           },
           {
            "_x": 1380319200000,
            "_y": "1.68",
            "index": 7,
            "x": 0.5018260991712319,
            "y": 0.49111584932480457
           },
           {
            "_x": 1411768800000,
            "_y": "1.08",
            "index": 8,
            "x": 0.5054782975136958,
            "y": 0.48578535891968727
           },
           {
            "_x": 1443218400000,
            "_y": "1.11",
            "index": 9,
            "x": 0.5091304958561595,
            "y": 0.48605188343994316
           },
           {
            "_x": 1474668000000,
            "_y": "1.35",
            "index": 10,
            "x": 0.5127826941986234,
            "y": 0.48818407960199006
           },
           {
            "_x": 1506722400000,
            "_y": "1.28",
            "index": 11,
            "x": 0.5165051271245962,
            "y": 0.48756218905472637
           },
           {
            "_x": 1538172000000,
            "_y": "1.12",
            "index": 12,
            "x": 0.52015732546706,
            "y": 0.4861407249466951
           },
           {
            "_x": 1569621600000,
            "_y": "1.54",
            "index": 13,
            "x": 0.5238095238095238,
            "y": 0.4898720682302772
           }
          ],
          "hasClickAction": false,
          "id": "i1",
          "index": 1,
          "interpolation": "linear",
          "legend": "CurrentRatio",
          "showItem": true,
          "stroke_dasharray": "",
          "stroke_opacity": 0,
          "style": "solid",
          "type": "line",
          "uid": "7f8c4ca4-0c10-4931-b618-04c2c11beef7",
          "useToolTip": true,
          "visible": true,
          "width": 1.5,
          "x": [
           1159567200000,
           1191016800000,
           1222466400000,
           1253916000000,
           1285365600000,
           1316815200000,
           1348869600000,
           1380319200000,
           1411768800000,
           1443218400000,
           1474668000000,
           1506722400000,
           1538172000000,
           1569621600000
          ],
          "y": [
           "",
           "",
           "2.64",
           "2.74",
           "2.01",
           "1.61",
           "1.5",
           "1.68",
           "1.08",
           "1.11",
           "1.35",
           "1.28",
           "1.12",
           "1.54"
          ],
          "yAxis": null,
          "yAxisLabel": null
         },
         {
          "color": "#2CA02C",
          "color_opacity": 1,
          "elements": [
           {
            "_x": 1159567200000,
            "_y": "",
            "index": 0,
            "x": 0.47619047619047616,
            "y": 0.4761904761904762
           },
           {
            "_x": 1191016800000,
            "_y": "3.18",
            "index": 1,
            "x": 0.47984267453294,
            "y": 0.5044420753375978
           },
           {
            "_x": 1222466400000,
            "_y": "2.96",
            "index": 2,
            "x": 0.4834948728754038,
            "y": 0.5024875621890548
           },
           {
            "_x": 1253916000000,
            "_y": "3.11",
            "index": 3,
            "x": 0.48714707121786766,
            "y": 0.5038201847903341
           },
           {
            "_x": 1285365600000,
            "_y": "2.73",
            "index": 4,
            "x": 0.4907992695603315,
            "y": 0.5004442075337597
           },
           {
            "_x": 1316815200000,
            "_y": "2.24",
            "index": 5,
            "x": 0.4944514679027953,
            "y": 0.496090973702914
           },
           {
            "_x": 1348869600000,
            "_y": "2.16",
            "index": 6,
            "x": 0.4981739008287681,
            "y": 0.4953802416488984
           },
           {
            "_x": 1380319200000,
            "_y": "2.62",
            "index": 7,
            "x": 0.5018260991712319,
            "y": 0.49946695095948823
           },
           {
            "_x": 1411768800000,
            "_y": "3.3",
            "index": 8,
            "x": 0.5054782975136958,
            "y": 0.5055081734186212
           },
           {
            "_x": 1443218400000,
            "_y": "3.45",
            "index": 9,
            "x": 0.5091304958561595,
            "y": 0.5068407960199005
           },
           {
            "_x": 1474668000000,
            "_y": "4.66",
            "index": 10,
            "x": 0.5127826941986234,
            "y": 0.517590618336887
           },
           {
            "_x": 1506722400000,
            "_y": "5.05",
            "index": 11,
            "x": 0.5165051271245962,
            "y": 0.5210554371002132
           },
           {
            "_x": 1538172000000,
            "_y": "5.36",
            "index": 12,
            "x": 0.52015732546706,
            "y": 0.5238095238095238
           },
           {
            "_x": 1569621600000,
            "_y": "",
            "index": 13,
            "x": 0.5238095238095238,
            "y": 0.4761904761904762
           }
          ],
          "hasClickAction": false,
          "id": "i2",
          "index": 2,
          "interpolation": "linear",
          "legend": "SalesResearchRatio%",
          "showItem": true,
          "stroke_dasharray": "",
          "stroke_opacity": 0,
          "style": "solid",
          "type": "line",
          "uid": "a4506671-a518-4a6c-b08d-32fb646dc8f7",
          "useToolTip": true,
          "visible": true,
          "width": 1.5,
          "x": [
           1159567200000,
           1191016800000,
           1222466400000,
           1253916000000,
           1285365600000,
           1316815200000,
           1348869600000,
           1380319200000,
           1411768800000,
           1443218400000,
           1474668000000,
           1506722400000,
           1538172000000,
           1569621600000
          ],
          "y": [
           "",
           "3.18",
           "2.96",
           "3.11",
           "2.73",
           "2.24",
           "2.16",
           "2.62",
           "3.3",
           "3.45",
           "4.66",
           "5.05",
           "5.36",
           ""
          ],
          "yAxis": null,
          "yAxisLabel": null
         }
        ],
        "init_height": 480,
        "init_width": 640,
        "legend_layout": "VERTICAL",
        "legend_position": {
         "position": "TOP_RIGHT",
         "type": "LegendPosition"
        },
        "log_x": false,
        "log_y": false,
        "numberOfPoints": 14,
        "omit_checkboxes": false,
        "outputPointsLimit": 1000000,
        "outputPointsPreviewNumber": 10000,
        "rangeAxes": [
         {
          "auto_range": true,
          "auto_range_includes_zero": false,
          "label": "",
          "log_base": 10,
          "lower_bound": 0,
          "lower_margin": 0,
          "type": "YAxis",
          "upper_bound": 0,
          "upper_margin": 0,
          "use_log": false
         }
        ],
        "rasters": [],
        "show_legend": true,
        "texts": [],
        "timezone": null,
        "tips": {},
        "type": "TimePlot",
        "use_tool_tip": true,
        "x_auto_range": true,
        "x_log_base": 10,
        "x_lower_bound": 0,
        "x_lower_margin": 0.05,
        "x_tickLabels_visible": true,
        "x_upper_bound": 0,
        "x_upper_margin": 0.05,
        "y_auto_range": true,
        "y_auto_range_includes_zero": false,
        "y_label": "",
        "y_lower_bound": 0,
        "y_lower_margin": 0,
        "y_tickLabels_visible": true,
        "y_upper_bound": 0,
        "y_upper_margin": 0
       }
      }
     },
     "a4a652a7-ed86-49d3-95b2-ffa8e94d54d7": {
      "model_module": "@jupyter-widgets/base",
      "model_module_version": "*",
      "model_name": "LayoutModel",
      "state": {
       "_model_module_version": "*",
       "_view_module_version": "*",
       "align_content": "",
       "align_self": "",
       "border": "",
       "bottom": "",
       "flex": "",
       "height": "",
       "justify_content": "",
       "left": "",
       "margin": "",
       "max_height": "",
       "max_width": "",
       "min_height": "",
       "min_width": "",
       "msg_throttle": 3,
       "overflow": "",
       "overflow_x": "",
       "overflow_y": "",
       "padding": "",
       "right": "",
       "top": ""
      }
     },
     "a9e39ba4-0e44-424b-ae76-502c2e09b471": {
      "model_module": "@jupyter-widgets/base",
      "model_module_version": "*",
      "model_name": "LayoutModel",
      "state": {
       "_model_module_version": "*",
       "_view_module_version": "*",
       "align_content": "",
       "align_self": "",
       "border": "",
       "bottom": "",
       "flex": "",
       "height": "",
       "justify_content": "",
       "left": "",
       "margin": "",
       "max_height": "",
       "max_width": "",
       "min_height": "",
       "min_width": "",
       "msg_throttle": 3,
       "overflow": "",
       "overflow_x": "",
       "overflow_y": "",
       "padding": "",
       "right": "",
       "top": ""
      }
     },
     "e2414313-b6d7-40d5-8787-084a57bc69d3": {
      "model_module": "beakerx",
      "model_module_version": "*",
      "model_name": "PlotModel",
      "state": {
       "model": {
        "auto_zoom": false,
        "chart_title": null,
        "constant_bands": [],
        "constant_lines": [],
        "crosshair": null,
        "custom_styles": [],
        "domain_axis_label": "Time",
        "element_styles": {},
        "graphics_list": [
         {
          "color": "#1F77B4",
          "color_opacity": 1,
          "elements": [
           {
            "_x": 1159567200000,
            "_y": "",
            "index": 0,
            "x": 0.47619047619047616,
            "y": 0.47619047619047616
           },
           {
            "_x": 1191016800000,
            "_y": "3.495E9",
            "index": 1,
            "x": 0.47984267453294,
            "y": 0.4789861384744723
           },
           {
            "_x": 1222466400000,
            "_y": "6.119E9",
            "index": 2,
            "x": 0.4834948728754038,
            "y": 0.48108508492174146
           },
           {
            "_x": 1253916000000,
            "_y": "8.235E9",
            "index": 3,
            "x": 0.48714707121786766,
            "y": 0.4827776804562009
           },
           {
            "_x": 1285365600000,
            "_y": "1.4013E10",
            "index": 4,
            "x": 0.4907992695603315,
            "y": 0.48739952213772575
           },
           {
            "_x": 1316815200000,
            "_y": "2.5922E10",
            "index": 5,
            "x": 0.4944514679027953,
            "y": 0.496925571390976
           },
           {
            "_x": 1348869600000,
            "_y": "4.1733E10",
            "index": 6,
            "x": 0.4981739008287681,
            "y": 0.509572843600493
           },
           {
            "_x": 1380319200000,
            "_y": "3.7037E10",
            "index": 7,
            "x": 0.5018260991712319,
            "y": 0.5058164973671181
           },
           {
            "_x": 1411768800000,
            "_y": "3.951E10",
            "index": 8,
            "x": 0.5054782975136958,
            "y": 0.5077946584052646
           },
           {
            "_x": 1443218400000,
            "_y": "5.3394E10",
            "index": 9,
            "x": 0.5091304958561595,
            "y": 0.5189005168175684
           },
           {
            "_x": 1474668000000,
            "_y": "4.5687E10",
            "index": 10,
            "x": 0.5127826941986234,
            "y": 0.5127356615320869
           },
           {
            "_x": 1506722400000,
            "_y": "4.8351E10",
            "index": 11,
            "x": 0.5165051271245962,
            "y": 0.514866604114223
           },
           {
            "_x": 1538172000000,
            "_y": "5.9531E10",
            "index": 12,
            "x": 0.52015732546706,
            "y": 0.5238095238095238
           },
           {
            "_x": 1569621600000,
            "_y": "55256.0",
            "index": 13,
            "x": 0.5238095238095238,
            "y": 0.4761905203899369
           }
          ],
          "hasClickAction": false,
          "id": "i0",
          "index": 0,
          "interpolation": "linear",
          "legend": "NetIncomeLoss",
          "showItem": true,
          "stroke_dasharray": "",
          "stroke_opacity": 0,
          "style": "solid",
          "type": "line",
          "uid": "027760c6-91a0-4e58-8628-1aa059ba7e27",
          "useToolTip": true,
          "visible": true,
          "width": 1.5,
          "x": [
           1159567200000,
           1191016800000,
           1222466400000,
           1253916000000,
           1285365600000,
           1316815200000,
           1348869600000,
           1380319200000,
           1411768800000,
           1443218400000,
           1474668000000,
           1506722400000,
           1538172000000,
           1569621600000
          ],
          "y": [
           "",
           "3.495E9",
           "6.119E9",
           "8.235E9",
           "1.4013E10",
           "2.5922E10",
           "4.1733E10",
           "3.7037E10",
           "3.951E10",
           "5.3394E10",
           "4.5687E10",
           "4.8351E10",
           "5.9531E10",
           "55256.0"
          ],
          "yAxis": null,
          "yAxisLabel": null
         },
         {
          "color": "#FF7F0E",
          "color_opacity": 1,
          "elements": [
           {
            "_x": 1159567200000,
            "_y": "",
            "index": 0,
            "x": 0.47619047619047616,
            "y": 0.47619047619047616
           },
           {
            "_x": 1191016800000,
            "_y": "7.82E8",
            "index": 1,
            "x": 0.47984267453294,
            "y": 0.47681600062712426
           },
           {
            "_x": 1222466400000,
            "_y": "1.109E9",
            "index": 2,
            "x": 0.4834948728754038,
            "y": 0.4770775690296612
           },
           {
            "_x": 1253916000000,
            "_y": "1.333E9",
            "index": 3,
            "x": 0.48714707121786766,
            "y": 0.4772567473849159
           },
           {
            "_x": 1285365600000,
            "_y": "1.782E9",
            "index": 4,
            "x": 0.4907992695603315,
            "y": 0.47761590399879694
           },
           {
            "_x": 1316815200000,
            "_y": "2.429E9",
            "index": 5,
            "x": 0.4944514679027953,
            "y": 0.4781334414802692
           },
           {
            "_x": 1348869600000,
            "_y": "3.381E9",
            "index": 6,
            "x": 0.4981739008287681,
            "y": 0.4788949494901016
           },
           {
            "_x": 1380319200000,
            "_y": "4.475E9",
            "index": 7,
            "x": 0.5018260991712319,
            "y": 0.4797700437787115
           },
           {
            "_x": 1411768800000,
            "_y": "6.041E9",
            "index": 8,
            "x": 0.5054782975136958,
            "y": 0.48102269245875096
           },
           {
            "_x": 1443218400000,
            "_y": "8.067E9",
            "index": 9,
            "x": 0.5091304958561595,
            "y": 0.48264329668975986
           },
           {
            "_x": 1474668000000,
            "_y": "1.0045E10",
            "index": 10,
            "x": 0.5127826941986234,
            "y": 0.48422550555892846
           },
           {
            "_x": 1506722400000,
            "_y": "1.1581E10",
            "index": 11,
            "x": 0.5165051271245962,
            "y": 0.48545415713781775
           },
           {
            "_x": 1538172000000,
            "_y": "1.4236E10",
            "index": 12,
            "x": 0.52015732546706,
            "y": 0.48757790058960876
           },
           {
            "_x": 1569621600000,
            "_y": "16217.0",
            "index": 13,
            "x": 0.5238095238095238,
            "y": 0.47619048916250917
           }
          ],
          "hasClickAction": false,
          "id": "i1",
          "index": 1,
          "interpolation": "linear",
          "legend": "ResearchAndDevelopmentExpense",
          "showItem": true,
          "stroke_dasharray": "",
          "stroke_opacity": 0,
          "style": "solid",
          "type": "line",
          "uid": "41b26db0-5a73-4074-988b-fd659a7a215a",
          "useToolTip": true,
          "visible": true,
          "width": 1.5,
          "x": [
           1159567200000,
           1191016800000,
           1222466400000,
           1253916000000,
           1285365600000,
           1316815200000,
           1348869600000,
           1380319200000,
           1411768800000,
           1443218400000,
           1474668000000,
           1506722400000,
           1538172000000,
           1569621600000
          ],
          "y": [
           "",
           "7.82E8",
           "1.109E9",
           "1.333E9",
           "1.782E9",
           "2.429E9",
           "3.381E9",
           "4.475E9",
           "6.041E9",
           "8.067E9",
           "1.0045E10",
           "1.1581E10",
           "1.4236E10",
           "16217.0"
          ],
          "yAxis": null,
          "yAxisLabel": null
         }
        ],
        "init_height": 480,
        "init_width": 640,
        "legend_layout": "VERTICAL",
        "legend_position": {
         "position": "TOP_RIGHT",
         "type": "LegendPosition"
        },
        "log_x": false,
        "log_y": false,
        "numberOfPoints": 14,
        "omit_checkboxes": false,
        "outputPointsLimit": 1000000,
        "outputPointsPreviewNumber": 10000,
        "rangeAxes": [
         {
          "auto_range": true,
          "auto_range_includes_zero": false,
          "label": "US $",
          "log_base": 10,
          "lower_bound": 0,
          "lower_margin": 0,
          "type": "YAxis",
          "upper_bound": 0,
          "upper_margin": 0,
          "use_log": false
         }
        ],
        "rasters": [],
        "show_legend": true,
        "texts": [],
        "timezone": null,
        "tips": {},
        "type": "TimePlot",
        "use_tool_tip": true,
        "x_auto_range": true,
        "x_log_base": 10,
        "x_lower_bound": 0,
        "x_lower_margin": 0.05,
        "x_tickLabels_visible": true,
        "x_upper_bound": 0,
        "x_upper_margin": 0.05,
        "y_auto_range": true,
        "y_auto_range_includes_zero": false,
        "y_label": "US $",
        "y_lower_bound": 0,
        "y_lower_margin": 0,
        "y_tickLabels_visible": true,
        "y_upper_bound": 0,
        "y_upper_margin": 0
       }
      }
     },
     "e75afe0e-dcc7-4a14-b7db-ac4f9c427e8e": {
      "model_module": "beakerx",
      "model_module_version": "*",
      "model_name": "TableDisplayModel",
      "state": {
       "model": {
        "alignmentForColumn": {},
        "alignmentForType": {},
        "cellHighlighters": [],
        "columnNames": [
         "AccountsReceivableNetCurrent",
         "Assets",
         "AssetsCurrent",
         "AvailableForSaleSecuritiesCurrent",
         "CashAndCashEquivalentsAtCarryingValue",
         "CurrentRatio",
         "EarningsPerShareBasic",
         "InventoryNet",
         "InventoryTurnover",
         "LiabilitiesCurrent",
         "NetIncomeChange%",
         "NetIncomeLoss",
         "NetIncomeResearchRatio%",
         "NetProfitMargin",
         "OperatingIncomeLoss",
         "QuickRatio",
         "ResearchAndDevelopmentChange%",
         "ResearchAndDevelopmentExpense",
         "Revenue",
         "RevenueChange%",
         "SalesResearchRatio%",
         "StockholdersEquity",
         "companyName",
         "date",
         "identifier",
         "incorporation",
         "location",
         "sicDescription",
         "time",
         "tradingSymbol"
        ],
        "columnOrder": [],
        "columnsFrozen": {},
        "columnsFrozenRight": {},
        "columnsVisible": {},
        "contextMenuItems": [],
        "contextMenuTags": {},
        "dataFontSize": null,
        "doubleClickTag": null,
        "fontColor": [],
        "hasDoubleClickAction": false,
        "hasIndex": null,
        "headerFontSize": null,
        "headersVertical": false,
        "rendererForColumn": {},
        "rendererForType": {},
        "stringFormatForColumn": {},
        "stringFormatForTimes": null,
        "stringFormatForType": {},
        "subtype": "ListOfMaps",
        "timeZone": null,
        "tooManyRows": false,
        "tooltips": [],
        "type": "TableDisplay",
        "types": [
         "",
         "",
         "",
         "",
         "",
         "",
         "",
         "",
         "",
         "",
         "",
         "",
         "",
         "",
         "",
         "",
         "",
         "",
         "",
         "",
         "",
         "",
         "string",
         "string",
         "string",
         "string",
         "string",
         "string",
         "time",
         "string"
        ],
        "values": [
         [
          "",
          "",
          "",
          "",
          "6.392E9",
          "",
          "",
          "",
          "",
          "",
          "",
          "",
          "",
          "",
          "",
          "",
          "",
          "",
          "",
          "",
          "",
          "9.984E9",
          "Apple Inc.",
          "2006-09-30",
          "0000320193",
          "CA",
          "CA",
          "ELECTRONIC COMPUTERS",
          {
           "timestamp": 1159567200000,
           "type": "Date"
          },
          "AAPL"
         ],
         [
          "",
          "",
          "",
          "",
          "9.352E9",
          "",
          "4.04",
          "",
          "",
          "",
          "",
          "3.495E9",
          "22.37",
          "0.14",
          "4.407E9",
          "",
          "",
          "7.82E8",
          "2.4578E10",
          "",
          "3.18",
          "1.4531E10",
          "Apple Inc.",
          "2007-09-29",
          "0000320193",
          "CA",
          "CA",
          "ELECTRONIC COMPUTERS",
          {
           "timestamp": 1191016800000,
           "type": "Date"
          },
          "AAPL"
         ],
         [
          "2.422E9",
          "3.6171E10",
          "3.0006E10",
          "1.0236E10",
          "1.1875E10",
          "2.64",
          "6.94",
          "5.09E8",
          "73.66",
          "1.1361E10",
          "6.1189999E9",
          "6.119E9",
          "18.12",
          "0.16",
          "8.327E9",
          "2.16",
          "41.82",
          "1.109E9",
          "3.7491E10",
          "52.54",
          "2.96",
          "2.2297E10",
          "Apple Inc.",
          "2008-09-27",
          "0000320193",
          "CA",
          "CA",
          "ELECTRONIC COMPUTERS",
          {
           "timestamp": 1222466400000,
           "type": "Date"
          },
          "AAPL"
         ],
         [
          "3.361E9",
          "4.7501E10",
          "3.1555E10",
          "1.8201E10",
          "5.263E9",
          "2.74",
          "9.22",
          "4.55E8",
          "94.3",
          "1.1506E10",
          "8.2349999E9",
          "8.235E9",
          "16.19",
          "0.19",
          "1.174E10",
          "2.33",
          "20.2",
          "1.333E9",
          "4.2905E10",
          "14.44",
          "3.11",
          "3.164E10",
          "Apple Inc.",
          "2009-09-26",
          "0000320193",
          "CA",
          "CA",
          "ELECTRONIC COMPUTERS",
          {
           "timestamp": 1253916000000,
           "type": "Date"
          },
          "AAPL"
         ],
         [
          "5.51E9",
          "7.5183E10",
          "4.1678E10",
          "1.4359E10",
          "1.1261E10",
          "2.01",
          "15.41",
          "1.051E9",
          "62.06",
          "2.0722E10",
          "1.40129999E10",
          "1.4013E10",
          "12.72",
          "0.21",
          "1.8385E10",
          "1.5",
          "33.68",
          "1.782E9",
          "6.5225E10",
          "52.02",
          "2.73",
          "4.7791E10",
          "Apple Inc.",
          "2010-09-25",
          "0000320193",
          "CA",
          "CA",
          "ELECTRONIC COMPUTERS",
          {
           "timestamp": 1285365600000,
           "type": "Date"
          },
          "AAPL"
         ],
         [
          "5.369E9",
          "1.16371E11",
          "4.4988E10",
          "1.6137E10",
          "9.815E9",
          "1.61",
          "28.05",
          "7.76E8",
          "139.5",
          "2.797E10",
          "2.59219999E10",
          "2.5922E10",
          "9.37",
          "0.24",
          "3.379E10",
          "1.12",
          "36.31",
          "2.429E9",
          "1.08249E11",
          "65.96",
          "2.24",
          "7.6615E10",
          "Apple Inc.",
          "2011-09-24",
          "0000320193",
          "CA",
          "CA",
          "ELECTRONIC COMPUTERS",
          {
           "timestamp": 1316815200000,
           "type": "Date"
          },
          "AAPL"
         ],
         [
          "1.093E10",
          "1.76064E11",
          "5.7653E10",
          "1.8383E10",
          "1.0746E10",
          "1.5",
          "44.64",
          "7.91E8",
          "197.86",
          "3.8542E10",
          "4.17329999E10",
          "4.1733E10",
          "8.1",
          "0.27",
          "5.5241E10",
          "1.04",
          "39.19",
          "3.381E9",
          "1.56508E11",
          "44.58",
          "2.16",
          "1.1821E11",
          "Apple Inc.",
          "2012-09-29",
          "0000320193",
          "CA",
          "CA",
          "ELECTRONIC COMPUTERS",
          {
           "timestamp": 1348869600000,
           "type": "Date"
          },
          "AAPL"
         ],
         [
          "1.3102E10",
          "2.07E11",
          "7.3286E10",
          "2.6287E10",
          "1.4259E10",
          "1.68",
          "40.03",
          "1.764E9",
          "96.89",
          "4.3658E10",
          "3.70369999E10",
          "3.7037E10",
          "12.08",
          "0.22",
          "4.8999E10",
          "1.23",
          "32.36",
          "4.475E9",
          "1.7091E11",
          "9.2",
          "2.62",
          "1.23549E11",
          "Apple Inc.",
          "2013-09-28",
          "0000320193",
          "CA",
          "CA",
          "ELECTRONIC COMPUTERS",
          {
           "timestamp": 1380319200000,
           "type": "Date"
          },
          "AAPL"
         ],
         [
          "1.746E10",
          "2.31839E11",
          "6.8531E10",
          "1.1233E10",
          "1.3844E10",
          "1.08",
          "6.49",
          "2.111E9",
          "86.59",
          "6.3448E10",
          "3.95099999E10",
          "3.951E10",
          "15.29",
          "0.22",
          "5.2503E10",
          "0.67",
          "34.99",
          "6.041E9",
          "1.82795E11",
          "6.95",
          "3.3",
          "1.11547E11",
          "Apple Inc.",
          "2014-09-27",
          "0000320193",
          "CA",
          "CA",
          "ELECTRONIC COMPUTERS",
          {
           "timestamp": 1411768800000,
           "type": "Date"
          },
          "AAPL"
         ],
         [
          "1.6849E10",
          "2.90479E11",
          "8.9378E10",
          "2.0481E10",
          "2.112E10",
          "1.11",
          "9.28",
          "2.349E9",
          "99.5",
          "8.061E10",
          "5.33939999E10",
          "5.3394E10",
          "15.11",
          "0.23",
          "7.123E10",
          "0.73",
          "33.54",
          "8.067E9",
          "2.33715E11",
          "27.86",
          "3.45",
          "1.19355E11",
          "Apple Inc.",
          "2015-09-26",
          "0000320193",
          "CA",
          "CA",
          "ELECTRONIC COMPUTERS",
          {
           "timestamp": 1443218400000,
           "type": "Date"
          },
          "AAPL"
         ],
         [
          "1.5754E10",
          "3.21686E11",
          "1.06869E11",
          "4.6671E10",
          "2.0484E10",
          "1.35",
          "8.35",
          "2.132E9",
          "101.14",
          "7.9006E10",
          "4.56869999E10",
          "4.5687E10",
          "21.99",
          "0.21",
          "6.0024E10",
          "1.05",
          "24.52",
          "1.0045E10",
          "2.15639E11",
          "-7.73",
          "4.66",
          "1.28249E11",
          "Apple Inc.",
          "2016-09-24",
          "0000320193",
          "CA",
          "CA",
          "ELECTRONIC COMPUTERS",
          {
           "timestamp": 1474668000000,
           "type": "Date"
          },
          "AAPL"
         ],
         [
          "1.7874E10",
          "3.75319E11",
          "1.28645E11",
          "5.3892E10",
          "2.0289E10",
          "1.28",
          "9.27",
          "4.855E9",
          "47.22",
          "1.00814E11",
          "4.83509999E10",
          "4.8351E10",
          "23.95",
          "0.21",
          "6.1344E10",
          "0.91",
          "15.29",
          "1.1581E10",
          "2.29234E11",
          "6.3",
          "5.05",
          "1.34047E11",
          "Apple Inc.",
          "2017-09-30",
          "0000320193",
          "CA",
          "CA",
          "ELECTRONIC COMPUTERS",
          {
           "timestamp": 1506722400000,
           "type": "Date"
          },
          "AAPL"
         ],
         [
          "2.3186E10",
          "3.65725E11",
          "1.31339E11",
          "4.0388E10",
          "2.5913E10",
          "1.12",
          "12.01",
          "3.956E9",
          "67.14",
          "1.16866E11",
          "5.95309999E10",
          "5.9531E10",
          "23.91",
          "0.22",
          "7.0898E10",
          "0.77",
          "22.93",
          "1.4236E10",
          "2.65595E11",
          "15.86",
          "5.36",
          "1.07147E11",
          "Apple Inc.",
          "2018-09-29",
          "0000320193",
          "CA",
          "CA",
          "ELECTRONIC COMPUTERS",
          {
           "timestamp": 1538172000000,
           "type": "Date"
          },
          "AAPL"
         ],
         [
          "22926.0",
          "338516.0",
          "162819.0",
          "",
          "48844.0",
          "1.54",
          "11.97",
          "4106.0",
          "",
          "105718.0",
          "55156.0",
          "55256.0",
          "29.35",
          "",
          "63930.0",
          "",
          "-100.0",
          "16217.0",
          "",
          "",
          "",
          "90488.0",
          "Apple Inc.",
          "2019-09-28",
          "0000320193",
          "CA",
          "CA",
          "ELECTRONIC COMPUTERS",
          {
           "timestamp": 1569621600000,
           "type": "Date"
          },
          "AAPL"
         ]
        ]
       }
      }
     },
     "ed3309f9-ff9b-4541-9a26-3c1e9517bee3": {
      "model_module": "@jupyter-widgets/base",
      "model_module_version": "*",
      "model_name": "LayoutModel",
      "state": {
       "_model_module_version": "*",
       "_view_module_version": "*",
       "align_content": "",
       "align_self": "",
       "border": "",
       "bottom": "",
       "flex": "",
       "height": "",
       "justify_content": "",
       "left": "",
       "margin": "",
       "max_height": "",
       "max_width": "",
       "min_height": "",
       "min_width": "",
       "msg_throttle": 3,
       "overflow": "",
       "overflow_x": "",
       "overflow_y": "",
       "padding": "",
       "right": "",
       "top": ""
      }
     },
     "f64f0fa1-a7b6-4742-ae7e-1c12a2997f35": {
      "model_module": "beakerx",
      "model_module_version": "*",
      "model_name": "BxHTMLModel",
      "state": {
       "background_color": null,
       "color": null,
       "font_family": "",
       "font_size": "",
       "font_style": "",
       "font_weight": "",
       "layout": "IPY_MODEL_ed3309f9-ff9b-4541-9a26-3c1e9517bee3",
       "msg_throttle": 3,
       "placeholder": "",
       "value": "smart-edgar-1.0.2.jar, common-0.0.1-SNAPSHOT.jar, rome-1.12.0.jar, rome-utils-1.12.0.jar, jdom2-2.0.6.jar, slf4j-api-1.7.25.jar, slf4j-log4j12-1.7.25.jar, log4j-1.2.17.jar, postgresql-42.2.8.jar, jersey-container-servlet-2.29.1.jar, jersey-container-servlet-core-2.29.1.jar, jersey-common-2.29.1.jar, jakarta.annotation-api-1.3.5.jar, jersey-server-2.29.1.jar, jakarta.validation-api-2.0.2.jar, jakarta.ws.rs-api-2.1.6.jar, jersey-media-json-jackson-2.29.1.jar, jersey-entity-filtering-2.29.1.jar, jackson-module-jaxb-annotations-2.9.9.jar, jersey-media-moxy-2.29.1.jar, jakarta.json-api-1.1.5.jar, jakarta.json-1.1.5.jar, org.eclipse.persistence.moxy-2.7.4.jar, org.eclipse.persistence.core-2.7.4.jar, org.eclipse.persistence.asm-2.7.4.jar, jersey-media-json-processing-2.29.1.jar, jsonp-jaxrs-1.1.5.jar, jersey-media-multipart-2.29.1.jar, mimepull-1.9.11.jar, jersey-media-sse-2.29.1.jar, jakarta.inject-2.6.1.jar, jersey-container-jdk-http-2.29.1.jar, jersey-client-2.29.1.jar, jersey-media-jaxb-2.29.1.jar, osgi-resource-locator-1.0.3.jar, jersey-hk2-2.29.1.jar, hk2-locator-2.6.1.jar, aopalliance-repackaged-2.6.1.jar, hk2-api-2.6.1.jar, hk2-utils-2.6.1.jar, javassist-3.22.0-CR2.jar, jackson-databind-2.10.1.jar, jackson-annotations-2.10.1.jar, jackson-core-2.10.1.jar, commons-jcs-core-2.2.1.jar, commons-logging-1.2.jar, commons-math3-3.6.1.jar, timeseries-forecast-1.1.1.jar, junit-4.10.jar, hamcrest-core-1.1.jar, jsoup-1.12.1.jar, commons-io-2.6.jar, jaxb-api-2.3.0.jar, jaxb-core-2.3.0.jar, jaxb-impl-2.3.0.jar, activation-1.1.1.jar",
       "visible": true
      }
     }
    },
    "version_major": 2,
    "version_minor": 0
   }
  }
 },
 "nbformat": 4,
 "nbformat_minor": 2
}
